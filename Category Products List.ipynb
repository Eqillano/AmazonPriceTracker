{
 "cells": [
  {
   "cell_type": "code",
   "execution_count": 1,
   "metadata": {},
   "outputs": [],
   "source": [
    "import requests\n",
    "import time\n",
    "from requests_html import HTML\n",
    "from selenium import webdriver\n",
    "from selenium.webdriver.chrome.options import Options"
   ]
  },
  {
   "cell_type": "code",
   "execution_count": 2,
   "metadata": {},
   "outputs": [],
   "source": [
    "options = Options()\n",
    "options.add_argument('--headless')\n",
    "\n",
    "driver = webdriver.Chrome(options=options)"
   ]
  },
  {
   "cell_type": "code",
   "execution_count": 3,
   "metadata": {},
   "outputs": [],
   "source": [
    "categories = [\n",
    "    'https://www.amazon.com/Best-Sellers-Electronics/zgbs/electronics/',\n",
    "    'https://www.amazon.com/Best-Sellers-Electronics-Computers-Accessories/zgbs/electronics/',\n",
    "    'https://www.amazon.com/Best-Sellers-Electronics-Video-Game-Consoles-Accessories/zgbs/electronics/'\n",
    "]"
   ]
  },
  {
   "cell_type": "code",
   "execution_count": null,
   "metadata": {},
   "outputs": [],
   "source": [
    "first_url = categories[0]"
   ]
  },
  {
   "cell_type": "code",
   "execution_count": 5,
   "metadata": {},
   "outputs": [],
   "source": [
    "driver.get(first_url) "
   ]
  },
  {
   "cell_type": "code",
   "execution_count": 6,
   "metadata": {},
   "outputs": [],
   "source": [
    "body_el = driver.find_element_by_css_selector('body')\n",
    "html_str = body_el.get_attribute('innerHTML')"
   ]
  },
  {
   "cell_type": "code",
   "execution_count": 7,
   "metadata": {},
   "outputs": [],
   "source": [
    "html_obj = HTML(html=html_str)"
   ]
  },
  {
   "cell_type": "code",
   "execution_count": 8,
   "metadata": {},
   "outputs": [],
   "source": [
    "new_links = [x for x in html_obj.links if x.startswith('/')]\n",
    "new_links = [x for x in new_links if 'product-reviews/' not in x]\n"
   ]
  },
  {
   "cell_type": "code",
   "execution_count": 9,
   "metadata": {},
   "outputs": [],
   "source": [
    "page_links = [f\"https://www.amazon.com/{x}\" for x in new_links]\n"
   ]
  },
  {
   "cell_type": "code",
   "execution_count": 10,
   "metadata": {},
   "outputs": [
    {
     "data": {
      "text/plain": [
       "['https://www.amazon.com//Echo-Show-8/dp/B07PF1Y28C/ref=zg_bs_electronics_13/130-4792713-6921908?_encoding=UTF8&psc=1&refRID=WYSTKS9A6ZKQP6BPA113',\n",
       " 'https://www.amazon.com//iss/credit/rewardscardmember?_encoding=UTF8&plattr=CBFOOT&ref_=footer_cbcc',\n",
       " 'https://www.amazon.com//discover/?ref_=nav_ListFlyout_sbl',\n",
       " 'https://www.amazon.com//gp/yourstore/pym/ref=pd_pyml_rhf/130-4792713-6921908',\n",
       " 'https://www.amazon.com//ideas/saves?ref_=nav_ListFlyout_strm_in_youtique_lists',\n",
       " 'https://www.amazon.com//Roku-Express-Streaming-Media-Player/dp/B07WVFCVJN/ref=zg_bs_electronics_12/130-4792713-6921908?_encoding=UTF8&psc=1&refRID=WYSTKS9A6ZKQP6BPA113',\n",
       " 'https://www.amazon.com//showroom?ref_=nav_ListFlyout_srm_your_desk_wl',\n",
       " 'https://www.amazon.com//gcx/Gifts-for-Father%27s-Day/gfhz/events/ref=FD20SWM1/?_encoding=UTF8&categoryId=fathers-day&ref_=nav_swm_undefined&pf_rd_p=6c110510-3193-4715-81ac-101fa7d69aba&pf_rd_s=nav-sitewide-msg-text&pf_rd_t=4201&pf_rd_i=navbar-4201&pf_rd_m=ATVPDKIKX0DER&pf_rd_r=WYSTKS9A6ZKQP6BPA113',\n",
       " 'https://www.amazon.com//Echo-Flex/dp/B07MLY3JKV/ref=zg_bs_electronics_41/130-4792713-6921908?_encoding=UTF8&psc=1&refRID=WYSTKS9A6ZKQP6BPA113',\n",
       " 'https://www.amazon.com//gp/clpf?ref_=nav_ListFlyout_smi_se_ya_lll_ll',\n",
       " 'https://www.amazon.com//gp/video/watchlist?ref_=nav_AccountFlyout_ywl',\n",
       " 'https://www.amazon.com//amazonsecondchance?_encoding=UTF8&ref_=footer_asc',\n",
       " 'https://www.amazon.com//electronics-store/b/?ie=UTF8&node=172282&ref_=topnav_storetab_e',\n",
       " 'https://www.amazon.com//Apple-Watch-GPS-38mm-Space-Aluminium/dp/B07K39FRSL/ref=zg_bs_electronics_23/130-4792713-6921908?_encoding=UTF8&psc=1&refRID=WYSTKS9A6ZKQP6BPA113',\n",
       " 'https://www.amazon.com//TCL-32S327-32-Inch-1080p-Smart/dp/B07F981R8M/ref=zg_bs_electronics_46/130-4792713-6921908?_encoding=UTF8&psc=1&refRID=WYSTKS9A6ZKQP6BPA113',\n",
       " 'https://www.amazon.com//Blink-Mini-Indoor-Camera/dp/B07X6C9RMF/ref=zg_bs_electronics_20/130-4792713-6921908?_encoding=UTF8&psc=1&refRID=WYSTKS9A6ZKQP6BPA113',\n",
       " 'https://www.amazon.com//Office-Electronics/b/?ie=UTF8&node=172574&ref_=sv_e_11',\n",
       " 'https://www.amazon.com//Coupons/b/?_encoding=UTF8&node=2231352011&ref_=nav_cs_coupons',\n",
       " 'https://www.amazon.com//Camera-Photo-Film-Canon-Sony/b/?ie=UTF8&node=502394&ref_=sv_e_6',\n",
       " 'https://www.amazon.com//gp/css/order-history?ie=UTF8&ref_=footer_yo',\n",
       " 'https://www.amazon.com//gp/registry/wishlist?triggerElementID=createList&ref_=nav_ListFlyout_create',\n",
       " 'https://www.amazon.com//gift-cards/b/?ie=UTF8&node=2238192011&ref_=nav_cs_gc',\n",
       " 'https://www.amazon.com//cell-phones-service-plans-accessories/b/?ie=UTF8&node=2335752011&ref_=sv_e_10',\n",
       " 'https://www.amazon.com//Deals-Electronics/b/?ie=UTF8&node=540734&ref_=sv_e_1',\n",
       " 'https://www.amazon.com//b/?ie=UTF8&node=2226766011&ref_=sv_e_14',\n",
       " 'https://www.amazon.com//gp/bestsellers/electronics/?ie=UTF8&ref_=sv_e_2',\n",
       " 'https://www.amazon.com//b/?node=12766669011&ld=AZUSSOA-yaflyout&ref_=nav_cs_sell',\n",
       " 'https://www.amazon.com//Echo-Studio/dp/B07G9Y3ZMC/ref=zg_bs_electronics_33/130-4792713-6921908?_encoding=UTF8&psc=1&refRID=WYSTKS9A6ZKQP6BPA113',\n",
       " 'https://www.amazon.com//yourpets?ref_=nav_AccountFlyout_pet_profiles',\n",
       " 'https://www.amazon.com//gcx/Gifts-for-Everyone/gfhz/?_encoding=UTF8&ref_=nav_wishlist_gf',\n",
       " 'https://www.amazon.com//Apple-Watch-GPS-44mm-Aluminum/dp/B07XQXPF21/ref=zg_bs_electronics_19/130-4792713-6921908?_encoding=UTF8&psc=1&refRID=WYSTKS9A6ZKQP6BPA113',\n",
       " 'https://www.amazon.com//gp/css/returns/homepage.html?ie=UTF8&ref_=footer_hy_f_4',\n",
       " 'https://www.amazon.com//clouddrive?ref_=nav_AccountFlyout_clddrv',\n",
       " 'https://www.amazon.com//gp/pantry/yourlists?ref_=nav_ListFlyout_pntry_gno',\n",
       " 'https://www.amazon.com//gp/dmusic/mp3/player?ref_=nav_AccountFlyout_cldplyr',\n",
       " 'https://www.amazon.com//gp/help/customer/accessibility',\n",
       " 'https://www.amazon.com//gp/subs/primeclub/account/homepage.html?ref_=nav_AccountFlyout_prime',\n",
       " 'https://www.amazon.com//Fire-7-Kids-Edition-Tablet/dp/B07H8WS1FT/ref=zg_bs_electronics_24/130-4792713-6921908?_encoding=UTF8&psc=1&refRID=WYSTKS9A6ZKQP6BPA113',\n",
       " 'https://www.amazon.com//gp/video/library?ref_=nav_AccountFlyout_yvl',\n",
       " 'https://www.amazon.com//gp/BIT?bitCampaignCode=a0032&ref_=nav_ListFlyout_bit_v2_a0032',\n",
       " 'https://www.amazon.com//Fujifilm-Instax-Instant-Sheets%C3%975-Shoots/dp/B015IY34FA/ref=zg_bs_electronics_16/130-4792713-6921908?_encoding=UTF8&psc=1&refRID=WYSTKS9A6ZKQP6BPA113',\n",
       " 'https://www.amazon.com//interestbasedads/ref=footer_iba',\n",
       " 'https://www.amazon.com//gp/navigation/redirector.html/ref=sign-in-redirect?ie=UTF8&associationHandle=usflex&currentPageURL=https%3A%2F%2Fwww.amazon.com%2FBest-Sellers-Electronics%2Fzgbs%2Felectronics%2F%3Fref_%3Dnav_custrec_signin&pageType=zeitgeist&switchAccount=&yshURL=https%3A%2F%2Fwww.amazon.com%2Fgp%2Fyourstore%2Fhome%3Fie%3DUTF8%26ref_%3Dnav_custrec_signin',\n",
       " 'https://www.amazon.com//Reload-Your-Gift-Card-Balance/b?ie=UTF8&node=10232440011&ref_=footer_reload_us',\n",
       " 'https://www.amazon.com//gp/yourstore?ref_=nav_AccountFlyout_recs',\n",
       " 'https://www.amazon.com//gp/browse.html?node=11261610011&ref_=nav_AccountFlyout_b2b_reg',\n",
       " 'https://www.amazon.com//wedding/home?ref_=nav_ListFlyout_wr',\n",
       " 'https://www.amazon.com//ref=nav_logo',\n",
       " 'https://www.amazon.com//b/?node=17867753011&ref_=nav_cs_shoppertoolkit',\n",
       " 'https://www.amazon.com//Apple-Watch-GPS-38mm-Silver-Aluminium/dp/B07K37HKT8/ref=zg_bs_electronics_44/130-4792713-6921908?_encoding=UTF8&psc=1&refRID=WYSTKS9A6ZKQP6BPA113',\n",
       " 'https://www.amazon.com//TR-Industrial-TR88302-Multi-Purpose-Cable/dp/B01018DC96/ref=zg_bs_electronics_49/130-4792713-6921908?_encoding=UTF8&psc=1&refRID=WYSTKS9A6ZKQP6BPA113',\n",
       " 'https://www.amazon.com//gp/prime/ref=nav_prime_ajax_err/130-4792713-6921908',\n",
       " 'https://www.amazon.com//Wyze-Indoor-Wireless-Camera-Vision/dp/B07G2YR23M/ref=zg_bs_electronics_42/130-4792713-6921908?_encoding=UTF8&psc=1&refRID=WYSTKS9A6ZKQP6BPA113',\n",
       " 'https://www.amazon.com//amazon-devices/b?ie=UTF8&node=2102313011&ref_=footer_devices',\n",
       " 'https://www.amazon.com//yourmembershipsandsubscriptions?ref_=nav_AccountFlyout_digital_subscriptions',\n",
       " 'https://www.amazon.com//prime?ref_=nav_prime_try_btn',\n",
       " 'https://www.amazon.com//gp/prime?ie=UTF8&ref_=footer_prime',\n",
       " 'https://www.amazon.com//Kindle-Paperwhite-Waterproof-Unlimited-auto-renewal/dp/B07PP49ZDW/ref=zg_bs_electronics_7/130-4792713-6921908?_encoding=UTF8&psc=1&refRID=WYSTKS9A6ZKQP6BPA113',\n",
       " 'https://www.amazon.com//gp/cart/view.html?ref_=nav_cart',\n",
       " 'https://www.amazon.com//OHill-Organizer-Management-Organizing-Adhesive/dp/B071FXZBMV/ref=zg_bs_electronics_32/130-4792713-6921908?_encoding=UTF8&psc=1&refRID=WYSTKS9A6ZKQP6BPA113',\n",
       " 'https://www.amazon.com//amFilm-Tempered-Screen-Protector-Nintendo-Switch/dp/B01N3ASPNV/ref=zg_bs_electronics_30/130-4792713-6921908?_encoding=UTF8&psc=1&refRID=WYSTKS9A6ZKQP6BPA113',\n",
       " 'https://www.amazon.com//ref=footer_logo',\n",
       " 'https://www.amazon.com//business?_encoding=UTF8&ref_=footer_retail_b2b',\n",
       " 'https://www.amazon.com//hz/mycd/myx?ref_=nav_AccountFlyout_myk',\n",
       " 'https://www.amazon.com//gp/registry/search?ref_=nav_ListFlyout_find',\n",
       " 'https://www.amazon.com//gp/css/order-history?ref_=nav_AccountFlyout_orders',\n",
       " 'https://www.amazon.com//Acer-Display-Graphics-Keyboard-A515-43-R19L/dp/B07RF1XD36/ref=zg_bs_electronics_29/130-4792713-6921908?_encoding=UTF8&psc=1&refRID=WYSTKS9A6ZKQP6BPA113',\n",
       " 'https://www.amazon.com//Nuevo-Ring-Stick-Battery-Carb%C3%B3n/dp/B07ZZY2F17/ref=zg_bs_electronics_47/130-4792713-6921908?_encoding=UTF8&psc=1&refRID=WYSTKS9A6ZKQP6BPA113',\n",
       " 'https://www.amazon.com//Home-Audio-Electronics/b/?ie=UTF8&node=667846011&ref_=sv_e_4',\n",
       " 'https://www.amazon.com//Introducing-Ring-Indoor-Cam-Compact-Plug-In-HD-security-camera-with-two-way-talk-White-Works-with-Alexa-/dp/B07Q9VBYV8/ref=zg_bs_electronics_38/130-4792713-6921908?_encoding=UTF8&psc=1&refRID=WYSTKS9A6ZKQP6BPA113',\n",
       " 'https://www.amazon.com//Best-Sellers-Electronics/zgbs/electronics/uedata/nvp/unsticky/130-4792713-6921908/zeitgeist/ntpoffrw?tepes=1&id=WYSTKS9A6ZKQP6BPA113',\n",
       " 'https://www.amazon.com//b/?node=16548547011&ref_=nav_cs_freeshipping',\n",
       " 'https://www.amazon.com//b/?ie=UTF8&node=172630&ref_=sv_e_9',\n",
       " 'https://www.amazon.com//gp/browse.html?node=16115931011&ref_=nav_cs_registry',\n",
       " 'https://www.amazon.com//b/?ie=UTF8&node=15391321011&ref_=sv_e_13',\n",
       " 'https://www.amazon.com//b?ie=UTF8&node=14498690011&ref_=amzn_nav_ftr_swa',\n",
       " 'https://www.amazon.com//Certified-Refurbished/b?ie=UTF8&node=12653393011&ref_=footer_usrenew',\n",
       " 'https://www.amazon.com//Echo-Dot/dp/B07FZ8S74R/ref=zg_bs_electronics_2/130-4792713-6921908?_encoding=UTF8&psc=1&refRID=WYSTKS9A6ZKQP6BPA113',\n",
       " 'https://www.amazon.com//Fire-TV-Stick-4K-with-Alexa-Voice-Remote/dp/B079QHML21/ref=zg_bs_electronics_8/130-4792713-6921908?_encoding=UTF8&psc=1&refRID=WYSTKS9A6ZKQP6BPA113',\n",
       " 'https://www.amazon.com//dp/B07CBJQS16?_encoding=UTF8&ie=UTF-8&place=camp&plattr=CCLFOOT&pr=ibprox&ref_=footer_ccl',\n",
       " 'https://www.amazon.com//gp/help/customer/display.html?ie=UTF8&nodeId=468520&ref_=footer_shiprates',\n",
       " 'https://www.amazon.com//gp/BIT/ref=footer_bit_v2_us_A0029?bitCampaignCode=A0029',\n",
       " 'https://www.amazon.com//b?ie=UTF8&node=16218619011&ref_=footer_swp',\n",
       " 'https://www.amazon.com//gp/help/customer/display.html?nodeId=508510&ref_=nav_cs_customerservice',\n",
       " 'https://www.amazon.com//gp/mas/your-account/myapps?ref_=nav_AccountFlyout_aad',\n",
       " 'https://www.amazon.com//all-new-Echo/dp/B07NFTVP7P/ref=zg_bs_electronics_5/130-4792713-6921908?_encoding=UTF8&psc=1&refRID=WYSTKS9A6ZKQP6BPA113',\n",
       " 'https://www.amazon.com//Introducing-Echo-Show-Compact-Charcoal/dp/B07HZLHPKP/ref=zg_bs_electronics_11/130-4792713-6921908?_encoding=UTF8&psc=1&refRID=WYSTKS9A6ZKQP6BPA113',\n",
       " 'https://www.amazon.com//all-new-fire-tv-cube-with-alexa-voice-remote/dp/B07KGVB6D6/ref=zg_bs_electronics_37/130-4792713-6921908?_encoding=UTF8&psc=1&refRID=WYSTKS9A6ZKQP6BPA113',\n",
       " 'https://www.amazon.com//localservices/ya/servicerequests?ref_=nav_AccountFlyout_desktop_vas_requestlist',\n",
       " 'https://www.amazon.com//STRING-subnav-prime-photos/b?ie=UTF8&node=13234696011&ref_=gno_p_foot',\n",
       " 'https://www.amazon.com//gp/css/homepage.html?ie=UTF8&ref_=footer_ya',\n",
       " 'https://www.amazon.com//gp/help/customer/display.html?ie=UTF8&nodeId=508088&ref_=footer_cou',\n",
       " 'https://www.amazon.com//Fire-TV-Stick-with-Alexa-Voice-Remote/dp/B0791TX5P5/ref=zg_bs_electronics_1/130-4792713-6921908?_encoding=UTF8&psc=1&refRID=WYSTKS9A6ZKQP6BPA113',\n",
       " 'https://www.amazon.com//stylequiz/?ref_=nav_ListFlyout_sq_ya_yl',\n",
       " 'https://www.amazon.com//musical-instruments-accessories-sound-recording/b/?ie=UTF8&node=11091801&ref_=sv_e_12',\n",
       " 'https://www.amazon.com//tv-video/b/?ie=UTF8&node=1266092011&ref_=sv_e_3',\n",
       " 'https://www.amazon.com//Wyze-1080p-Indoor-Camera-Vision/dp/B07DGR98VQ/ref=zg_bs_electronics_22/130-4792713-6921908?_encoding=UTF8&psc=1&refRID=WYSTKS9A6ZKQP6BPA113',\n",
       " 'https://www.amazon.com//gp/css/homepage.html?ref_=nav_AccountFlyout_ya',\n",
       " 'https://www.amazon.com//Bototek-Protector-Charging-Extension-Smartphone/dp/B07MVZZV3G/ref=zg_bs_electronics_26/130-4792713-6921908?_encoding=UTF8&psc=1&refRID=WYSTKS9A6ZKQP6BPA113',\n",
       " 'https://www.amazon.com//stores/node/2528919011/?field-lbr_brands_browse-bin=AmazonBasics&ref_=nav_cs_amazonbasics',\n",
       " 'https://www.amazon.com//Sabrent-4-Port-Individual-Switches-HB-UMLS/dp/B00BWF5U0M/ref=zg_bs_electronics_36/130-4792713-6921908?_encoding=UTF8&psc=1&refRID=WYSTKS9A6ZKQP6BPA113',\n",
       " 'https://www.amazon.com//International-Shipping-Direct/b?ie=UTF8&node=230659011&ref_=footer_amazonglobal',\n",
       " 'https://www.amazon.com//gp/bestsellers/?ref_=nav_cs_bestsellers',\n",
       " 'https://www.amazon.com//Roku-Streaming-Player-Premium-Headphones/dp/B07WVF9SL5/ref=zg_bs_electronics_39/130-4792713-6921908?_encoding=UTF8&psc=1&refRID=WYSTKS9A6ZKQP6BPA113',\n",
       " 'https://www.amazon.com//services?_encoding=UTF8&ref_=footer_services',\n",
       " 'https://www.amazon.com//Fujifilm-INSTAX-Instant-Twin-Pack/dp/B00EB4ADQW/ref=zg_bs_electronics_28/130-4792713-6921908?_encoding=UTF8&psc=1&refRID=WYSTKS9A6ZKQP6BPA113',\n",
       " 'https://www.amazon.com//Fitbit-Fitness-Smartwatch-Tracking-Included/dp/B07TWFVDWT/ref=zg_bs_electronics_10/130-4792713-6921908?_encoding=UTF8&psc=1&refRID=WYSTKS9A6ZKQP6BPA113',\n",
       " 'https://www.amazon.com//dp/B07984JN3L?_encoding=UTF8&ie=UTF-8&plattr=ACOMFO',\n",
       " 'https://www.amazon.com//gp/browse.html?node=17235386011&ref_=nav_cs_whole_foods',\n",
       " 'https://www.amazon.com//Fire-Tablet-7/dp/B07FKR6KXF/ref=zg_bs_electronics_3/130-4792713-6921908?_encoding=UTF8&psc=1&refRID=WYSTKS9A6ZKQP6BPA113',\n",
       " 'https://www.amazon.com//l/ref=map_1_b2b_GW_FT?_encoding=UTF8&node=17882322011',\n",
       " 'https://www.amazon.com//gp/seller-account/mm-summary-page.html?ie=UTF8&ld=AZFooterSelfPublish&ref_=footer_publishing&topic=200260520',\n",
       " 'https://www.amazon.com//Ring-Video-Doorbell/dp/B07WGJ8XWZ/ref=zg_bs_electronics_27/130-4792713-6921908?_encoding=UTF8&psc=1&refRID=WYSTKS9A6ZKQP6BPA113',\n",
       " 'https://www.amazon.com//photos?ref_=nav_AccountFlyout_primephotos',\n",
       " 'https://www.amazon.com//gp/subscribe-and-save/manager/viewsubscriptions?ref_=nav_AccountFlyout_sns',\n",
       " 'https://www.amazon.com//gp/kindle/ku/ku_central?ref_=nav_AccountFlyout_ku',\n",
       " 'https://www.amazon.com//gcx/-/gfhz/connections/list?ref_=nav_ListFlyout_fafgift',\n",
       " 'https://www.amazon.com//credit/storecard/member?_encoding=UTF8&plattr=PLCCFOOT&ref_=footer_plcc',\n",
       " 'https://www.amazon.com//Ring-Peephole-Cam-doorbell-installation/dp/B07WHMQNPC/ref=zg_bs_electronics_50/130-4792713-6921908?_encoding=UTF8&psc=1&refRID=WYSTKS9A6ZKQP6BPA113',\n",
       " 'https://www.amazon.com//fanshop?ref_=nav_AccountFlyout_yfs',\n",
       " 'https://www.amazon.com//gp/help/customer/display.html?ie=UTF8&nodeId=468496&ref_=footer_privacy',\n",
       " 'https://www.amazon.com//All-new-Kindle-Built-Unlimited-auto-renewal/dp/B085VT322X/ref=zg_bs_electronics_34/130-4792713-6921908?_encoding=UTF8&psc=1&refRID=WYSTKS9A6ZKQP6BPA113',\n",
       " 'https://www.amazon.com//All-New-Fire-HD-8-Tablet/dp/B07TMJ1R3X/ref=zg_bs_electronics_18/130-4792713-6921908?_encoding=UTF8&psc=1&refRID=WYSTKS9A6ZKQP6BPA113',\n",
       " 'https://www.amazon.com//prime/ref=nav_tooltip_redirect/130-4792713-6921908',\n",
       " 'https://www.amazon.com//hz/mycd/myx?_encoding=UTF8&ref_=footer_myk',\n",
       " 'https://www.amazon.com//Wyze-Indoor-Wireless-Detection-Assistant/dp/B076H3SRXG/ref=zg_bs_electronics_15/130-4792713-6921908?_encoding=UTF8&psc=1&refRID=WYSTKS9A6ZKQP6BPA113',\n",
       " 'https://www.amazon.com//SanDisk-MicroSDXC-Nintendo-Switch-SDSQXAO-128G-GNCZN/dp/B07KXQX3S3/ref=zg_bs_electronics_21/130-4792713-6921908?_encoding=UTF8&psc=1&refRID=WYSTKS9A6ZKQP6BPA113',\n",
       " 'https://www.amazon.com//TP-Link-AC1750-Smart-WiFi-Router/dp/B079JD7F7G/ref=zg_bs_electronics_25/130-4792713-6921908?_encoding=UTF8&psc=1&refRID=WYSTKS9A6ZKQP6BPA113',\n",
       " 'https://www.amazon.com//alm/storefront?_encoding=UTF8&almBrandId=QW1hem9uIEZyZXNo&ref_=footer_aff_fresh',\n",
       " 'https://www.amazon.com//gp/help/customer/display.html?ie=UTF8&nodeId=GDFU3JS5AL6SYHRD&ref_=footer_covid',\n",
       " 'https://www.amazon.com//Currency-Converter/b?ie=UTF8&node=388305011&ref_=footer_tfx',\n",
       " 'https://www.amazon.com//gp/css/order-history?ref_=nav_orders_first',\n",
       " 'https://www.amazon.com//Warehouse-Deals/b?ie=UTF8&node=10158976011&ref_=footer_wrhsdls',\n",
       " 'https://www.amazon.com//computer-pc-hardware-accessories-add-ons/b/?ie=UTF8&node=541966&ref_=sv_e_5',\n",
       " 'https://www.amazon.com//Prime-Instant-Video/s/browse?node=2676882011&ref_=nav_AccountFlyout_piv',\n",
       " 'https://www.amazon.com//gp/help/customer/display.html?ie=UTF8&nodeId=508510&ref_=footer_gw_m_b_he',\n",
       " 'https://www.amazon.com//gcx/Gifts-for-Everyone/gfhz/?ref_=nav_cs_giftfinder',\n",
       " 'https://www.amazon.com//b/?_encoding=UTF8&ld=AZUSSOA-seemore&node=18190131011&ref_=footer_seemore',\n",
       " 'https://www.amazon.com//gp/navigation-country/select-country/ref=footer_icp_cp_t1?ie=UTF8&preferencesReturnUrl=%2F',\n",
       " 'https://www.amazon.com//finds?ref_=nav_cs_foundit',\n",
       " 'https://www.amazon.com//gp/customer-preferences/select-language/ref=topnav_lang_t1?preferencesReturnUrl=%2FBest-Sellers-Electronics%2Fzgbs%2Felectronics%2F',\n",
       " 'https://www.amazon.com//gp/new-releases/?ref_=nav_cs_newreleases',\n",
       " 'https://www.amazon.com//Fire-HD-10/dp/B07K1RZWMC/ref=zg_bs_electronics_14/130-4792713-6921908?_encoding=UTF8&psc=1&refRID=WYSTKS9A6ZKQP6BPA113',\n",
       " 'https://www.amazon.com//ideas?ref_=nav_ListFlyout_idea_nav',\n",
       " 'https://www.amazon.com//Roku-Streaming-Stick-HDR-Streaming-Long-range/dp/B075XLWML4/ref=zg_bs_electronics_6/130-4792713-6921908?_encoding=UTF8&psc=1&refRID=WYSTKS9A6ZKQP6BPA113',\n",
       " 'https://www.amazon.com//gp/your-garage/?ref_=nav_AccountFlyout_au_pf_as_GNO',\n",
       " 'https://www.amazon.com//Letsfit-Activity-Waterproof-Pedometer-Smartwatch/dp/B07X2KLTJ2/ref=zg_bs_electronics_48/130-4792713-6921908?_encoding=UTF8&psc=1&refRID=WYSTKS9A6ZKQP6BPA113',\n",
       " 'https://www.amazon.com//STRING-subnav_primephotos_amazondrive/b?ie=UTF8&node=15547130011&ref_=us_footer_drive',\n",
       " 'https://www.amazon.com//b/?_encoding=UTF8&ld=AZUSSOA-sell&node=12766669011&ref_=nav_cs_sell',\n",
       " 'https://www.amazon.com//gp/goldbox?ref_=nav_cs_gb',\n",
       " 'https://www.amazon.com//Ring-8AB1S7-0EU0-Rechargeable-Battery-Pack/dp/B076JKHDQT/ref=zg_bs_electronics_35/130-4792713-6921908?_encoding=UTF8&psc=1&refRID=WYSTKS9A6ZKQP6BPA113',\n",
       " 'https://www.amazon.com//Blink-Smart-Security-Camera/dp/B07MMZ2LTB/ref=zg_bs_electronics_4/130-4792713-6921908?_encoding=UTF8&psc=1&refRID=WYSTKS9A6ZKQP6BPA113',\n",
       " 'https://www.amazon.com//Wearable-Technology/b/?ie=UTF8&node=10048700011&ref_=sv_e_7',\n",
       " 'https://www.amazon.com//baby-reg/homepage?ref_=nav_ListFlyout_br',\n",
       " 'https://www.amazon.com//Willful-Compatible-Swimming-Waterproof-Smartwatch/dp/B07YWRXVP6/ref=zg_bs_electronics_45/130-4792713-6921908?_encoding=UTF8&psc=1&refRID=WYSTKS9A6ZKQP6BPA113',\n",
       " 'https://www.amazon.com//Ring-Video-Doorbell-3/dp/B0849J7W5X/ref=zg_bs_electronics_43/130-4792713-6921908?_encoding=UTF8&psc=1&refRID=WYSTKS9A6ZKQP6BPA113',\n",
       " 'https://www.amazon.com//compare-credit-card-offers/b?ie=UTF8&node=3561432011&ref_=footer_ccmp',\n",
       " 'https://www.amazon.com//GE-Outlet-Protector-Extension-14092/dp/B00DOMYL24/ref=zg_bs_electronics_31/130-4792713-6921908?_encoding=UTF8&psc=1&refRID=WYSTKS9A6ZKQP6BPA113',\n",
       " 'https://www.amazon.com//Car-Electronics/b/?ie=UTF8&node=1077068&ref_=sv_e_8',\n",
       " 'https://www.amazon.com//gp/customer-preferences/select-language/ref=footer_lang_t1?ie=UTF8&preferencesReturnUrl=%2F',\n",
       " 'https://www.amazon.com//Roku-Premiere-HDR-Streaming-Player-Premium/dp/B07HDBZN7Q/ref=zg_bs_electronics_9/130-4792713-6921908?_encoding=UTF8&psc=1&refRID=WYSTKS9A6ZKQP6BPA113',\n",
       " 'https://www.amazon.com//Apple-iPad-10-2-Inch-Wi-Fi-128GB/dp/B07XQZNM5S/ref=zg_bs_electronics_17/130-4792713-6921908?_encoding=UTF8&psc=1&refRID=WYSTKS9A6ZKQP6BPA113',\n",
       " 'https://www.amazon.com//Toshiba-TF-32A710U21-32-inch-Smart-HD/dp/B0872GBSJV/ref=zg_bs_electronics_40/130-4792713-6921908?_encoding=UTF8&psc=1&refRID=WYSTKS9A6ZKQP6BPA113']"
      ]
     },
     "execution_count": 10,
     "metadata": {},
     "output_type": "execute_result"
    }
   ],
   "source": [
    "page_links"
   ]
  },
  {
   "cell_type": "code",
   "execution_count": 11,
   "metadata": {},
   "outputs": [],
   "source": [
    "\n",
    "def scrape_product_page(url, title_lookup = \"#productTitle\", price_lookup = \"#priceblock_ourprice\"):\n",
    "    driver.get(url)\n",
    "    time.sleep(1.2)\n",
    "    body_el = driver.find_element_by_css_selector(\"body\")\n",
    "    html_str = body_el.get_attribute(\"innerHTML\")\n",
    "    html_obj = HTML(html=html_str)\n",
    "    product_title = html_obj.find(title_lookup, first=True).text\n",
    "    product_price = html_obj.find(price_lookup, first=True).text\n",
    "    return product_title, product_price  "
   ]
  },
  {
   "cell_type": "code",
   "execution_count": 12,
   "metadata": {},
   "outputs": [
    {
     "data": {
      "text/plain": [
       "'https://www.amazon.com//Echo-Show-8/dp/B07PF1Y28C/ref=zg_bs_electronics_13/130-4792713-6921908?_encoding=UTF8&psc=1&refRID=WYSTKS9A6ZKQP6BPA113'"
      ]
     },
     "execution_count": 12,
     "metadata": {},
     "output_type": "execute_result"
    }
   ],
   "source": [
    "first_product_link = page_links[0]\n",
    "first_product_link"
   ]
  },
  {
   "cell_type": "code",
   "execution_count": null,
   "metadata": {},
   "outputs": [],
   "source": [
    "for link in page_links:\n",
    "    title, price = (None, None)\n",
    "    try:\n",
    "        title, price = scrape_product_page(link)\n",
    "    except:\n",
    "        pass\n",
    "    if title != None and price != None:\n",
    "        print(link, title, price)"
   ]
  },
  {
   "cell_type": "code",
   "execution_count": null,
   "metadata": {},
   "outputs": [],
   "source": []
  }
 ],
 "metadata": {
  "kernelspec": {
   "display_name": "Python 3",
   "language": "python",
   "name": "python3"
  },
  "language_info": {
   "codemirror_mode": {
    "name": "ipython",
    "version": 3
   },
   "file_extension": ".py",
   "mimetype": "text/x-python",
   "name": "python",
   "nbconvert_exporter": "python",
   "pygments_lexer": "ipython3",
   "version": "3.7.6"
  }
 },
 "nbformat": 4,
 "nbformat_minor": 4
}
