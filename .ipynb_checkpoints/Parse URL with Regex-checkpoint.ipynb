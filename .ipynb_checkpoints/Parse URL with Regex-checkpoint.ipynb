{
 "cells": [
  {
   "cell_type": "code",
   "execution_count": 24,
   "metadata": {},
   "outputs": [],
   "source": [
    "from pathlib import Path\n",
    "import datetime\n",
    "import pandas as pd\n",
    "import requests\n",
    "import re\n",
    "import time\n",
    "from requests_html import HTML\n",
    "from selenium import webdriver\n",
    "from selenium.webdriver.chrome.options import Options"
   ]
  },
  {
   "cell_type": "code",
   "execution_count": 2,
   "metadata": {},
   "outputs": [],
   "source": [
    "BASE_DIR = Path.cwd()\n",
    "DATA_DIR = BASE_DIR / 'data'\n",
    "if not DATA_DIR.exists():\n",
    "   DATA_DIR.mkdir(exist_ok=True)\n",
    "product_category_links_output = DATA_DIR / 'category-products.csv'\n",
    "product_output = DATA_DIR / 'products.csv'"
   ]
  },
  {
   "cell_type": "code",
   "execution_count": 3,
   "metadata": {},
   "outputs": [],
   "source": [
    "options = Options()\n",
    "options.add_argument('--headless')\n",
    "\n",
    "driver = webdriver.Chrome(options=options)"
   ]
  },
  {
   "cell_type": "code",
   "execution_count": 4,
   "metadata": {},
   "outputs": [],
   "source": [
    "\n",
    "categories = [\n",
    "    {\"name\": \"toys-and-games\", \"url\": \"https://www.amazon.com/Best-Sellers-Toys-Games/zgbs/toys-and-games/\"},\n",
    "    {\"name\": \"electronics\", \"url\": \"https://www.amazon.com/Best-Sellers-Electronics/zgbs/electronics/\"},\n",
    "    {\"name\": \"fashion\", \"url\": \"https://www.amazon.com/Best-Sellers/zgbs/fashion/\"}\n",
    "]"
   ]
  },
  {
   "cell_type": "code",
   "execution_count": 5,
   "metadata": {},
   "outputs": [],
   "source": [
    "regex_options = [\n",
    "    r\"https://www.amazon.com/gp/product/(?P<product_id>[\\w-]+)/\",\n",
    "    r\"https://www.amazon.com/dp/(?P<product_id>[\\w-]+)/\",\n",
    "    r\"https://www.amazon.com/(?P<slug>[\\w-]+)/dp/(?P<product_id>[\\w-]+)/\",\n",
    "]\n",
    "\n",
    "def extract_product_id_from_url(url):\n",
    "    product_id = None\n",
    "    for regex_str in regex_options:\n",
    "        regex = re.compile(regex_str)\n",
    "        match = regex.match(url)\n",
    "        if match != None:\n",
    "            try:\n",
    "                product_id = match['product_id']\n",
    "            except:\n",
    "                pass\n",
    "    return product_id"
   ]
  },
  {
   "cell_type": "code",
   "execution_count": 6,
   "metadata": {},
   "outputs": [],
   "source": [
    "def clean_page_links(page_links,category=None):\n",
    "    final_page_links = []\n",
    "    for url in page_links:\n",
    "        product_id = extract_product_id_from_url(url)\n",
    "        if product_id != None:\n",
    "           final_page_links.append({'url':url,'product_id':product_id,\"category\":category})\n",
    "    return final_page_links"
   ]
  },
  {
   "cell_type": "code",
   "execution_count": 13,
   "metadata": {},
   "outputs": [],
   "source": [
    "def scrape_category_product_link(categories=[]):\n",
    "    all_product_links = []\n",
    "    for category in categories:\n",
    "        time.sleep(1.5)\n",
    "        url = category.get(\"url\")\n",
    "        driver.get(url)\n",
    "        body_el = driver.find_element_by_css_selector(\"body\")\n",
    "        html_str = body_el.get_attribute(\"innerHTML\")\n",
    "        html_obj = HTML(html=html_str)\n",
    "        page_links = [f\"https://www.amazon.com{x}\" for x in html_obj.links if x.startswith(\"/\")]\n",
    "        cleaned_links = clean_page_links(page_links=page_links, category=category)\n",
    "        all_product_links += cleaned_links\n",
    "    return all_product_links\n",
    "\n"
   ]
  },
  {
   "cell_type": "code",
   "execution_count": 14,
   "metadata": {},
   "outputs": [],
   "source": [
    "def extract_categories_and_save(categories=[]):\n",
    "    all_product_links = scrape_category_product_links(categories)\n",
    "    category_df = pd.DataFrame(all_product_links)\n",
    "    category_df.to_csv(product_category_links_output, index=False)"
   ]
  },
  {
   "cell_type": "code",
   "execution_count": 15,
   "metadata": {},
   "outputs": [],
   "source": [
    "\n",
    "extract_categories_and_save(categories=categories)"
   ]
  },
  {
   "cell_type": "code",
   "execution_count": 16,
   "metadata": {},
   "outputs": [],
   "source": [
    "\n",
    "def scrape_product_page(url, title_lookup = \"#productTitle\", price_lookup = \"#priceblock_ourprice\"):\n",
    "    driver.get(url)\n",
    "    time.sleep(0.5)\n",
    "    body_el = driver.find_element_by_css_selector(\"body\")\n",
    "    html_str = body_el.get_attribute(\"innerHTML\")\n",
    "    html_obj = HTML(html=html_str)\n",
    "    product_title = html_obj.find(title_lookup, first=True).text\n",
    "    product_price = html_obj.find(price_lookup, first=True).text\n",
    "    return product_title, product_price  \n",
    "\n",
    "all_product_links = scrape_category_product_link(categories)"
   ]
  },
  {
   "cell_type": "code",
   "execution_count": null,
   "metadata": {},
   "outputs": [],
   "source": [
    "#page_links"
   ]
  },
  {
   "cell_type": "code",
   "execution_count": 17,
   "metadata": {},
   "outputs": [],
   "source": [
    "def perform_scrape(cleaned_items=[]):\n",
    "    data_extractred = []\n",
    "    for obj in cleaned_items:\n",
    "        link = obj['url']\n",
    "        product_id = obj['product_id']\n",
    "        title, price = (None, None)\n",
    "        try:\n",
    "            title, price = scrape_product_page(link)\n",
    "        except:\n",
    "            pass\n",
    "        if title != None and price != None:\n",
    "            print(link, title, price)\n",
    "        product_data = {\n",
    "        'url':link,\n",
    "        'product_id':product_id,\n",
    "        'title':title,\n",
    "        'price':price\n",
    "    }\n",
    "    data_extracted.append(product_data)\n",
    "    return data_extracted"
   ]
  },
  {
   "cell_type": "code",
   "execution_count": 22,
   "metadata": {},
   "outputs": [],
   "source": [
    "def row_scrape_event(row, *args, **kwargs):\n",
    "    link = row['url']\n",
    "    scraped = 0\n",
    "    try:\n",
    "        scraped = row['scraped']\n",
    "    except:\n",
    "        pass\n",
    "    # print(link)\n",
    "    if scraped == 1 or scraped == \"1\":\n",
    "        print(\"skipped\")\n",
    "        return row\n",
    "    product_id = row['product_id']\n",
    "    title, price = (None, None)\n",
    "    try:\n",
    "        title, price = scrape_product_page(link)\n",
    "    except:\n",
    "        pass\n",
    "    row['title'] = title\n",
    "    row['price'] = price\n",
    "    row['scraped'] = 1\n",
    "    row['timestamp'] = datetime.datetime.now().timestamp()\n",
    "    print(link, title, price)\n",
    "    return row"
   ]
  },
  {
   "cell_type": "code",
   "execution_count": 18,
   "metadata": {},
   "outputs": [
    {
     "data": {
      "text/html": [
       "<div>\n",
       "<style scoped>\n",
       "    .dataframe tbody tr th:only-of-type {\n",
       "        vertical-align: middle;\n",
       "    }\n",
       "\n",
       "    .dataframe tbody tr th {\n",
       "        vertical-align: top;\n",
       "    }\n",
       "\n",
       "    .dataframe thead th {\n",
       "        text-align: right;\n",
       "    }\n",
       "</style>\n",
       "<table border=\"1\" class=\"dataframe\">\n",
       "  <thead>\n",
       "    <tr style=\"text-align: right;\">\n",
       "      <th></th>\n",
       "      <th>url</th>\n",
       "      <th>product_id</th>\n",
       "      <th>category</th>\n",
       "    </tr>\n",
       "  </thead>\n",
       "  <tbody>\n",
       "    <tr>\n",
       "      <th>0</th>\n",
       "      <td>https://www.amazon.com/Crayola-Wonder-Drawing-...</td>\n",
       "      <td>B07PMLL5L7</td>\n",
       "      <td>{'name': 'toys-and-games', 'url': 'https://www...</td>\n",
       "    </tr>\n",
       "    <tr>\n",
       "      <th>1</th>\n",
       "      <td>https://www.amazon.com/Play-Doh-Pack-Case-Blue...</td>\n",
       "      <td>B07BC152DC</td>\n",
       "      <td>{'name': 'toys-and-games', 'url': 'https://www...</td>\n",
       "    </tr>\n",
       "    <tr>\n",
       "      <th>2</th>\n",
       "      <td>https://www.amazon.com/BalanceFrom-Puzzle-Exer...</td>\n",
       "      <td>B01D7SS1XE</td>\n",
       "      <td>{'name': 'toys-and-games', 'url': 'https://www...</td>\n",
       "    </tr>\n",
       "    <tr>\n",
       "      <th>3</th>\n",
       "      <td>https://www.amazon.com/SunWorks-Construction-P...</td>\n",
       "      <td>B002LARR7Q</td>\n",
       "      <td>{'name': 'toys-and-games', 'url': 'https://www...</td>\n",
       "    </tr>\n",
       "    <tr>\n",
       "      <th>4</th>\n",
       "      <td>https://www.amazon.com/Intex-River-Lounge-Infl...</td>\n",
       "      <td>B000PEOMC8</td>\n",
       "      <td>{'name': 'toys-and-games', 'url': 'https://www...</td>\n",
       "    </tr>\n",
       "  </tbody>\n",
       "</table>\n",
       "</div>"
      ],
      "text/plain": [
       "                                                 url  product_id  \\\n",
       "0  https://www.amazon.com/Crayola-Wonder-Drawing-...  B07PMLL5L7   \n",
       "1  https://www.amazon.com/Play-Doh-Pack-Case-Blue...  B07BC152DC   \n",
       "2  https://www.amazon.com/BalanceFrom-Puzzle-Exer...  B01D7SS1XE   \n",
       "3  https://www.amazon.com/SunWorks-Construction-P...  B002LARR7Q   \n",
       "4  https://www.amazon.com/Intex-River-Lounge-Infl...  B000PEOMC8   \n",
       "\n",
       "                                            category  \n",
       "0  {'name': 'toys-and-games', 'url': 'https://www...  \n",
       "1  {'name': 'toys-and-games', 'url': 'https://www...  \n",
       "2  {'name': 'toys-and-games', 'url': 'https://www...  \n",
       "3  {'name': 'toys-and-games', 'url': 'https://www...  \n",
       "4  {'name': 'toys-and-games', 'url': 'https://www...  "
      ]
     },
     "execution_count": 18,
     "metadata": {},
     "output_type": "execute_result"
    }
   ],
   "source": [
    "\n",
    "df = pd.read_csv(product_category_links_output)\n",
    "df.head()"
   ]
  },
  {
   "cell_type": "code",
   "execution_count": null,
   "metadata": {},
   "outputs": [],
   "source": [
    "#extracted_data = perform_scrape(cleaned_links)"
   ]
  },
  {
   "cell_type": "code",
   "execution_count": 19,
   "metadata": {},
   "outputs": [
    {
     "data": {
      "text/plain": [
       "(149, 3)"
      ]
     },
     "execution_count": 19,
     "metadata": {},
     "output_type": "execute_result"
    }
   ],
   "source": [
    "df.shape"
   ]
  },
  {
   "cell_type": "code",
   "execution_count": 20,
   "metadata": {},
   "outputs": [],
   "source": [
    "\n",
    "df_sub = df.copy() "
   ]
  },
  {
   "cell_type": "code",
   "execution_count": 25,
   "metadata": {},
   "outputs": [
    {
     "name": "stdout",
     "output_type": "stream",
     "text": [
      "https://www.amazon.com/Crayola-Wonder-Drawing-Cantidad-paquete/dp/B07PMLL5L7/ref=zg_bs_toys-and-games_11?_encoding=UTF8&psc=1&refRID=DSW81JP145KQM8GA3NG2 Crayola Baby Shark Wonder Pages Mess Free Coloring Gift, Kids Indoor Activities at Home $6.97\n",
      "https://www.amazon.com/Crayola-Wonder-Drawing-Cantidad-paquete/dp/B07PMLL5L7/ref=zg_bs_toys-and-games_11?_encoding=UTF8&psc=1&refRID=DSW81JP145KQM8GA3NG2 None None\n",
      "https://www.amazon.com/Play-Doh-Pack-Case-Blue/dp/B07BC152DC/ref=zg_bs_toys-and-games_18?_encoding=UTF8&psc=1&refRID=DSW81JP145KQM8GA3NG2 Play-Doh Bulk 12-Pack of Blue Non-Toxic Modeling Compound, 4-Ounce Cans $11.97\n",
      "https://www.amazon.com/BalanceFrom-Puzzle-Exercise-Interlocking-Tiles/dp/B01D7SS1XE/ref=zg_bs_toys-and-games_48?_encoding=UTF8&psc=1&refRID=DSW81JP145KQM8GA3NG2 BalanceFrom Kid's Puzzle Exercise Play Mat with EVA Foam Interlocking Tiles $15.99\n",
      "https://www.amazon.com/SunWorks-Construction-Paper-Black-Sheets/dp/B002LARR7Q/ref=zg_bs_toys-and-games_44?_encoding=UTF8&psc=1&refRID=DSW81JP145KQM8GA3NG2 SunWorks Heavyweight Construction Paper, 9 x 12 Inches, Black, 100 Sheets $3.69\n",
      "https://www.amazon.com/Intex-River-Lounge-Inflatable-Diameter/dp/B000PEOMC8/ref=zg_bs_toys-and-games_9?_encoding=UTF8&psc=1&refRID=DSW81JP145KQM8GA3NG2 Intex River Run I Sport Lounge, Inflatable Water Float, 53\" Diameter $28.14\n",
      "https://www.amazon.com/LeapFrog-Learning-Friends-Words-Green/dp/B07B6ZN7P8/ref=zg_bs_toys-and-games_26?_encoding=UTF8&psc=1&refRID=DSW81JP145KQM8GA3NG2 LeapFrog 100 Animals Book $17.59\n",
      "https://www.amazon.com/Crayola-Twistables-Classrooms-Preschools-Self-Sharpening/dp/B00062J99K/ref=zg_bs_toys-and-games_37?_encoding=UTF8&psc=1&refRID=DSW81JP145KQM8GA3NG2 Crayola Twistables Crayons Coloring Set, Kids Indoor Activities at Home, 24 Count $4.49\n",
      "https://www.amazon.com/SwimWays-Toypedo-Bandits-Pool-Diving/dp/B0038ZVPFI/ref=zg_bs_toys-and-games_31?_encoding=UTF8&psc=1&refRID=DSW81JP145KQM8GA3NG2 SwimWays Toypedo Bandits Pool Diving Toys - Sinking Torpedo Swim Toys - Pack of 4, Colors Vary, (12298) $5.00\n",
      "https://www.amazon.com/Flybar-Jumper-Toddlers-Durable-Supports/dp/B00WTDXSDM/ref=zg_bs_toys-and-games_15?_encoding=UTF8&psc=1&refRID=DSW81JP145KQM8GA3NG2 Flybar My First Foam Pogo Jumper for Kids Fun and Safe Pogo Stick, Durable Foam and Bungee Jumper for Ages 3 and up Toddler Toys, Supports up to 250lbs (Blue) $16.99\n",
      "https://www.amazon.com/Baby-Einstein-Creative-Composer-Musical/dp/B083XNLSN3/ref=zg_bs_toys-and-games_43?_encoding=UTF8&psc=1&refRID=DSW81JP145KQM8GA3NG2 None None\n",
      "https://www.amazon.com/Pacon-PAC6555-Lightweight-Construction-Assorted/dp/B0013CDJTS/ref=zg_bs_toys-and-games_34?_encoding=UTF8&psc=1&refRID=DSW81JP145KQM8GA3NG2 Art Street Lightweight Construction Paper, 10 Assorted Colors, 9\" x 12\", 500 Sheets $12.48\n",
      "https://www.amazon.com/Click-Play-Phthalate-Crush-Plastic/dp/B00PYLU3GG/ref=zg_bs_toys-and-games_45?_encoding=UTF8&psc=1&refRID=DSW81JP145KQM8GA3NG2 Click N' Play Pack of 200 Phthalate Free BPA Free Crush Proof Plastic Ball, Pit Balls - 6 Bright Colors in Reusable and Durable Storage Mesh Bag with Zipper $27.79\n",
      "https://www.amazon.com/Jax-8002-Sequence-Game/dp/B00000IVAK/ref=zg_bs_toys-and-games_33?_encoding=UTF8&psc=1&refRID=DSW81JP145KQM8GA3NG2 Jax Sequence - Original Sequence Game with Folding Board, Cards and Chips by Jax $17.97\n",
      "https://www.amazon.com/SplashEZ-Splash-Sprinkler-Toddler-Learning/dp/B0836WRWFY/ref=zg_bs_toys-and-games_12?_encoding=UTF8&psc=1&refRID=DSW81JP145KQM8GA3NG2 None None\n",
      "https://www.amazon.com/Hasbro-A5640-Connect-4-Game/dp/B00D8STBHY/ref=zg_bs_toys-and-games_8?_encoding=UTF8&psc=1&refRID=DSW81JP145KQM8GA3NG2 None None\n",
      "https://www.amazon.com/Aqua-Multi-Purpose-Inflatable-Removable-Resistant/dp/B01N7FHWPY/ref=zg_bs_toys-and-games_1?_encoding=UTF8&psc=1&refRID=DSW81JP145KQM8GA3NG2 Aqua Deluxe Resort Quality Monterey Hammock, 4-in-1 Multi-Purpose Inflatable Pool Float (Saddle, Lounge Chair, Hammock, Drifter), Washable Premium Fabric, Stow-n-Go Tote Bag, Antigua Blue $26.98\n",
      "https://www.amazon.com/Hasbro-Guess-Who-Classic-Game/dp/B01N6PRX20/ref=zg_bs_toys-and-games_30?_encoding=UTF8&psc=1&refRID=DSW81JP145KQM8GA3NG2 Hasbro Guess Who Classic Game $9.97\n",
      "https://www.amazon.com/RUBFAC-Assorted-Balloons-Decoration-Birthday/dp/B07WGXTKGY/ref=zg_bs_toys-and-games_49?_encoding=UTF8&psc=1&refRID=DSW81JP145KQM8GA3NG2 None None\n",
      "https://www.amazon.com/Animal-Suncatcher-Refill-Horizon-Group/dp/B07KD24XBS/ref=zg_bs_toys-and-games_16?_encoding=UTF8&psc=1&refRID=DSW81JP145KQM8GA3NG2 Animal Suncatcher Refill Pack 12 pk by Horizon Group USA $5.82\n",
      "https://www.amazon.com/Homech-Inflatable-Swimming-Full-Sized-Toddlers/dp/B083PRCZDM/ref=zg_bs_toys-and-games_36?_encoding=UTF8&psc=1&refRID=DSW81JP145KQM8GA3NG2 Homech Family Inflatable Swimming Pool, 120\" X 72\" X 22\" Full-Sized Inflatable Lounge Pool for Baby, Kiddie, Kids, Adult, Infant, Toddlers for Ages 3+,Outdoor, Garden, Backyard, Summer Water Party $145.99\n",
      "https://www.amazon.com/Bunch-Balloons-Pack-Amazon-Exclusive/dp/B07GW2QQWN/ref=zg_bs_toys-and-games_2?_encoding=UTF8&psc=1&refRID=DSW81JP145KQM8GA3NG2 None None\n",
      "https://www.amazon.com/Waterproof-Stickers-Luggage-Scrapbook-Postcard/dp/B07QR3NWGK/ref=zg_bs_toys-and-games_22?_encoding=UTF8&psc=1&refRID=DSW81JP145KQM8GA3NG2 None None\n",
      "https://www.amazon.com/Play-Doh-Modeling-Compound-Non-Toxic-Exclusive/dp/B00JM5GW10/ref=zg_bs_toys-and-games_39?_encoding=UTF8&psc=1&refRID=DSW81JP145KQM8GA3NG2 Play-Doh Modeling Compound 10 Pack Case of Colors, Non-Toxic, Assorted Colors, 2 Oz Cans, Ages 2 & Up, (Amazon Exclusive), Multicolor $7.99\n",
      "https://www.amazon.com/Toilet-Timer-by-Katamco-Classic/dp/B07CT6DYFG/ref=zg_bs_toys-and-games_46?_encoding=UTF8&psc=1&refRID=DSW81JP145KQM8GA3NG2 Katamco Toilet Timer (Classic) $14.99\n",
      "https://www.amazon.com/SwimWays-Spring-Activity-Center-Canopy/dp/B000WQZD9U/ref=zg_bs_toys-and-games_50?_encoding=UTF8&psc=1&refRID=DSW81JP145KQM8GA3NG2 SwimWays Baby Spring Float Activity Center with Canopy - Inflatable Float for Children with Interactive Toys and UPF Sun Protection - Blue/Green Octopus $29.99\n",
      "https://www.amazon.com/Rock-Painting-Kit-Kids-Activities/dp/B07Z2R7S5P/ref=zg_bs_toys-and-games_32?_encoding=UTF8&psc=1&refRID=DSW81JP145KQM8GA3NG2 None None\n",
      "https://www.amazon.com/Unicorn-Supplies-Everything-Glitter-Instructions/dp/B07C2YPYBM/ref=zg_bs_toys-and-games_21?_encoding=UTF8&psc=1&refRID=DSW81JP145KQM8GA3NG2 None None\n",
      "https://www.amazon.com/Little-Tikes-EasyScore-Basketball-Exclusive/dp/B01C5A2WJO/ref=zg_bs_toys-and-games_29?_encoding=UTF8&psc=1&refRID=DSW81JP145KQM8GA3NG2 Little Tikes Easy Score Basketball Set, Blue, 3 Balls - Amazon Exclusive $34.99\n",
      "https://www.amazon.com/First-Years-Disney-Mickey-Squirt/dp/B06Y1G2MH9/ref=zg_bs_toys-and-games_40?_encoding=UTF8&psc=1&refRID=DSW81JP145KQM8GA3NG2 The First Years Disney Baby Bathtime Squirt Toys, Mickey Mouse $4.59\n",
      "https://www.amazon.com/First-Years-Stack-Up-Cups/dp/B00005C5H4/ref=zg_bs_toys-and-games_4?_encoding=UTF8&psc=1&refRID=DSW81JP145KQM8GA3NG2 The First Years Stack Up Cup Toys $6.00\n",
      "https://www.amazon.com/Free-Swimming-Baby-Inflatable-Accessories/dp/B072N2J366/ref=zg_bs_toys-and-games_42?_encoding=UTF8&psc=1&refRID=DSW81JP145KQM8GA3NG2 None None\n",
      "https://www.amazon.com/VTech-Sit-to-Stand-Learning-Walker-Blue/dp/B07CRSXMW8/ref=zg_bs_toys-and-games_7?_encoding=UTF8&psc=1&refRID=DSW81JP145KQM8GA3NG2 VTech Sit-To-Stand Learning Walker (Frustration Free Packaging), Blue $33.48\n",
      "https://www.amazon.com/CozyBomB-Magnetic-Fishing-Bathtub-Floating/dp/B07B6NP36Q/ref=zg_bs_toys-and-games_20?_encoding=UTF8&psc=1&refRID=DSW81JP145KQM8GA3NG2 CozyBomB Magnetic Fishing Pool Toys Game for Kids - Water Table Bath-tub Kiddie Party Toy with Pole Rod Net Plastic Floating Fish Toddler Color Ocean Sea Animals Age 3 4 5 6 Year Old $17.98\n",
      "https://www.amazon.com/SunWorks-Construction-Assorted-Colors-Sheets/dp/B0013CA0LI/ref=zg_bs_toys-and-games_3?_encoding=UTF8&psc=1&refRID=DSW81JP145KQM8GA3NG2 SunWorks Construction Paper, 10 Assorted Colors, 9\" x 12\", 50 Sheets $1.88\n",
      "https://www.amazon.com/LEGO-Classic-Green-Baseplate-Supplement/dp/B00NHQF65S/ref=zg_bs_toys-and-games_41?_encoding=UTF8&psc=1&refRID=DSW81JP145KQM8GA3NG2 None None\n",
      "https://www.amazon.com/Protector-Proofing-Protectors-Furniture-CalMyotis/dp/B0771L5HN5/ref=zg_bs_toys-and-games_35?_encoding=UTF8&psc=1&refRID=DSW81JP145KQM8GA3NG2 Corner Protector, Baby Proofing Table Corner Guards, Keep Child Safe, Protectors for Furniture Against Sharp Corners (12 Pack) by CalMyotis $9.99\n"
     ]
    },
    {
     "name": "stdout",
     "output_type": "stream",
     "text": [
      "https://www.amazon.com/Inflatable-Splash-Sprinkler-Toddlers-Outdoor/dp/B082WXCM5W/ref=zg_bs_toys-and-games_6?_encoding=UTF8&psc=1&refRID=DSW81JP145KQM8GA3NG2 Inflatable Splash Pad Sprinkler for Kids Toddlers, Kiddie Baby Pool, Outdoor Games Water Mat Toys - Baby Infant Wadin Swimming Pool - Fun Backyard Fountain Play Mat for 1 -12 Year Old Girls Boys (68\") $34.95\n",
      "https://www.amazon.com/Tara-Toys-Barbie-Necklace-Activity/dp/B07WWZBF5G/ref=zg_bs_toys-and-games_5?_encoding=UTF8&psc=1&refRID=DSW81JP145KQM8GA3NG2 Tara Toys Barbie Necklace Activity Set $12.99\n",
      "https://www.amazon.com/First-Princess-Make-Kit-Everything/dp/B07FPWYY79/ref=zg_bs_toys-and-games_10?_encoding=UTF8&psc=1&refRID=DSW81JP145KQM8GA3NG2 None None\n",
      "https://www.amazon.com/Aqua-Campania-Ultimate-Adjustable-Inflatable/dp/B07WDM32ZC/ref=zg_bs_toys-and-games_24?_encoding=UTF8&psc=1&refRID=DSW81JP145KQM8GA3NG2 AQUA Campania Ultimate 2 in 1 Recliner & Tanner Pool Lounger with Adjustable Backrest and Caddy, Inflatable Pool Float, Teal Hibiscus $49.99\n",
      "https://www.amazon.com/Mattel-Games-Official-Amazon-Exclusive/dp/B07P6MZPK3/ref=zg_bs_toys-and-games_25?_encoding=UTF8&psc=1&refRID=DSW81JP145KQM8GA3NG2 UNO: Family Card Game, with 112 Cards in a Sturdy Storage Tin, Travel-Friendly, Makes a Great Gift for 7 Year Olds and Up [Amazon Exclusive] $9.99\n",
      "https://www.amazon.com/Fisher-Price-Rattle-Rock-Maracas-Orange/dp/B071FLSWBS/ref=zg_bs_toys-and-games_17?_encoding=UTF8&psc=1&refRID=DSW81JP145KQM8GA3NG2 Fisher-Price Rattle 'n Rock Maracas, Blue/Orange [Amazon Exclusive] $5.94\n",
      "https://www.amazon.com/Hasbro-A5640-Connect-4-Game/dp/B00D8STBHY/ref=zg_bs_toys-and-games_map_8?_encoding=UTF8&psc=1&refRID=DSW81JP145KQM8GA3NG2 None None\n",
      "https://www.amazon.com/Disney-Pixar-Story-Aliens-Figure/dp/B07HD27YZT/ref=zg_bs_toys-and-games_38?_encoding=UTF8&psc=1&refRID=DSW81JP145KQM8GA3NG2 Disney Pixar Toy Story 4 Aliens Figures, 4.4 in / 11.18 cm Tall, 3 Posable Character Figures for Kids 3 Years and Older [Amazon Exclusive] $12.01\n",
      "https://www.amazon.com/Hasbro-Gaming-C1009-Monopoly-Classic/dp/B01MU9K3XU/ref=zg_bs_toys-and-games_14?_encoding=UTF8&psc=1&refRID=DSW81JP145KQM8GA3NG2 None None\n",
      "https://www.amazon.com/Exploding-Kittens-LLC-EKG-ORG1-1-Card/dp/B010TQY7A8/ref=zg_bs_toys-and-games_23?_encoding=UTF8&psc=1&refRID=DSW81JP145KQM8GA3NG2 Exploding Kittens Card Game - Family-Friendly Party Games - Card Games For Adults, Teens & Kids $19.99\n",
      "https://www.amazon.com/IDAODAN-Portable-Electric-Inflator-Decoration/dp/B012A7R7I8/ref=zg_bs_toys-and-games_28?_encoding=UTF8&psc=1&refRID=DSW81JP145KQM8GA3NG2 IDAODAN Portable Dual Nozzle Rose Red 110V 600W Electric Balloon Blower Pump/Electric Balloon Inflator For Decoration $23.99\n",
      "https://www.amazon.com/WOWMAZING-Giant-Bubble-Wands-Kit/dp/B01CK78BLA/ref=zg_bs_toys-and-games_47?_encoding=UTF8&psc=1&refRID=DSW81JP145KQM8GA3NG2 None None\n",
      "https://www.amazon.com/Cards-Against-Humanity-LLC-CAHUS/dp/B004S8F7QM/ref=zg_bs_toys-and-games_13?_encoding=UTF8&psc=1&refRID=DSW81JP145KQM8GA3NG2 Cards Against Humanity $25.00\n",
      "https://www.amazon.com/Nuby-Floating-Purple-Octopus-Interactive/dp/B083ZZSGLR/ref=zg_bs_toys-and-games_27?_encoding=UTF8&psc=1&refRID=DSW81JP145KQM8GA3NG2 Nuby Floating Purple Octopus with 3 Hoopla Rings Interactive Bath Toy $6.88\n",
      "https://www.amazon.com/Creativity-Kids-Glow-Dark-Painting/dp/B07SXLYQ6S/ref=zg_bs_toys-and-games_19?_encoding=UTF8&psc=1&refRID=DSW81JP145KQM8GA3NG2 Creativity for Kids Glow In The Dark Rock Painting Kit - Paint 10 Rocks with Water Resistant Glow Paint - Crafts for Kids $12.99\n",
      "https://www.amazon.com/Fitbit-Fitness-Smartwatch-Tracking-Included/dp/B07TWFVDWT/ref=zg_bs_electronics_9?_encoding=UTF8&psc=1&refRID=Y799VVD4EK7EQ4G6XSV2 Fitbit Versa 2 Health and Fitness Smartwatch with Heart Rate, Music, Alexa Built-In, Sleep and Swim Tracking, Black/Carbon, One Size (S and L Bands Included) $149.95\n",
      "https://www.amazon.com/Apple-Watch-GPS-40mm-Aluminum/dp/B07XR5TRSZ/ref=zg_bs_electronics_43?_encoding=UTF8&psc=1&refRID=Y799VVD4EK7EQ4G6XSV2 None None\n",
      "https://www.amazon.com/Ring-Video-Doorbell/dp/B07WGJ8XWZ/ref=zg_bs_electronics_28?_encoding=UTF8&psc=1&refRID=Y799VVD4EK7EQ4G6XSV2 All-new Ring Video Doorbell – 1080p HD video, improved motion detection, easy installation – Satin Nickel (2nd Gen) $99.99\n",
      "https://www.amazon.com/Fire-TV-Stick-with-Alexa-Voice-Remote/dp/B0791TX5P5/ref=zg_bs_electronics_2?_encoding=UTF8&psc=1&refRID=Y799VVD4EK7EQ4G6XSV2 None None\n",
      "https://www.amazon.com/Blink-Mini-Indoor-Camera/dp/B07X6C9RMF/ref=zg_bs_electronics_17?_encoding=UTF8&psc=1&refRID=Y799VVD4EK7EQ4G6XSV2 Introducing Blink Mini – Compact indoor plug-in smart security camera, 1080 HD video, motion detection, Works with Alexa – 1 camera $29.99\n",
      "https://www.amazon.com/Acer-Display-Graphics-Keyboard-A515-43-R19L/dp/B07RF1XD36/ref=zg_bs_electronics_29?_encoding=UTF8&psc=1&refRID=Y799VVD4EK7EQ4G6XSV2 None None\n",
      "https://www.amazon.com/Wyze-1080p-Indoor-Camera-Vision/dp/B07DGR98VQ/ref=zg_bs_electronics_22?_encoding=UTF8&psc=1&refRID=Y799VVD4EK7EQ4G6XSV2 Wyze Cam Pan 1080p Pan/Tilt/Zoom Wi-Fi Indoor Smart Home Camera with Night Vision, 2-Way Audio, Works with Alexa & the Google Assistant, White - WYZECP1 $37.98\n",
      "https://www.amazon.com/all-new-Echo/dp/B07NFTVP7P/ref=zg_bs_electronics_6?_encoding=UTF8&psc=1&refRID=Y799VVD4EK7EQ4G6XSV2 None None\n",
      "https://www.amazon.com/GE-Outlet-Protector-Extension-14092/dp/B00DOMYL24/ref=zg_bs_electronics_36?_encoding=UTF8&psc=1&refRID=Y799VVD4EK7EQ4G6XSV2 GE 6 Outlet Surge Protector, 10 Ft Extension Cord, Power Strip, 800 Joules, Flat Plug, Twist-to-Close Safety Covers, White, 14092 $13.86\n",
      "https://www.amazon.com/Ring-8AB1S7-0EU0-Rechargeable-Battery-Pack/dp/B076JKHDQT/ref=zg_bs_electronics_37?_encoding=UTF8&psc=1&refRID=Y799VVD4EK7EQ4G6XSV2 Ring Rechargeable Battery Pack $29.00\n",
      "https://www.amazon.com/Introducing-Echo-Show-Compact-Charcoal/dp/B07HZLHPKP/ref=zg_bs_electronics_12?_encoding=UTF8&psc=1&refRID=Y799VVD4EK7EQ4G6XSV2 None None\n",
      "https://www.amazon.com/Roku-Streaming-Player-Premium-Headphones/dp/B07WVF9SL5/ref=zg_bs_electronics_39?_encoding=UTF8&psc=1&refRID=Y799VVD4EK7EQ4G6XSV2 None None\n",
      "https://www.amazon.com/Roku-Express-Streaming-Media-Player/dp/B07WVFCVJN/ref=zg_bs_electronics_11?_encoding=UTF8&psc=1&refRID=Y799VVD4EK7EQ4G6XSV2 None None\n",
      "https://www.amazon.com/Echo-Dot/dp/B07FZ8S74R/ref=zg_bs_electronics_1?_encoding=UTF8&psc=1&refRID=Y799VVD4EK7EQ4G6XSV2 None None\n",
      "https://www.amazon.com/Kindle-Paperwhite-Waterproof-Unlimited-auto-renewal/dp/B07PP49ZDW/ref=zg_bs_electronics_5?_encoding=UTF8&psc=1&refRID=Y799VVD4EK7EQ4G6XSV2 Kindle Paperwhite – Now Waterproof with more than 2x the Storage – Includes Special Offers + Kindle Unlimited (with auto-renewal) $124.99\n",
      "https://www.amazon.com/all-new-fire-tv-cube-with-alexa-voice-remote/dp/B07KGVB6D6/ref=zg_bs_electronics_38?_encoding=UTF8&psc=1&refRID=Y799VVD4EK7EQ4G6XSV2 None None\n",
      "https://www.amazon.com/Fire-TV-Stick-4K-with-Alexa-Voice-Remote/dp/B079QHML21/ref=zg_bs_electronics_8?_encoding=UTF8&psc=1&refRID=Y799VVD4EK7EQ4G6XSV2 Fire TV Stick 4K streaming device with Alexa built in, Dolby Vision, includes Alexa Voice Remote, latest release $49.99\n",
      "https://www.amazon.com/Toshiba-TF-32A710U21-32-inch-Smart-HD/dp/B0872GBSJV/ref=zg_bs_electronics_32?_encoding=UTF8&psc=1&refRID=Y799VVD4EK7EQ4G6XSV2 None None\n",
      "https://www.amazon.com/TP-Link-AC1750-Smart-WiFi-Router/dp/B079JD7F7G/ref=zg_bs_electronics_21?_encoding=UTF8&psc=1&refRID=Y799VVD4EK7EQ4G6XSV2 TP-Link AC1750 Smart WiFi Router - Dual Band Gigabit Wireless Internet Router for Home, Works with Alexa, VPN Server, Parental Control&QoS (Archer A7) $64.99\n",
      "https://www.amazon.com/Echo-Show-8/dp/B07PF1Y28C/ref=zg_bs_electronics_13?_encoding=UTF8&psc=1&refRID=Y799VVD4EK7EQ4G6XSV2 None None\n",
      "https://www.amazon.com/SanDisk-MicroSDXC-Nintendo-Switch-SDSQXAO-128G-GNCZN/dp/B07KXQX3S3/ref=zg_bs_electronics_24?_encoding=UTF8&psc=1&refRID=Y799VVD4EK7EQ4G6XSV2 SanDisk 128GB MicroSDXC UHS-I Memory Card for Nintendo Switch - SDSQXAO-128G-GNCZN $27.99\n",
      "https://www.amazon.com/AUKEY-Touchscreen-Water-Resistant-Detection-G-Sensor/dp/B07Q3RF1GY/ref=zg_bs_electronics_46?_encoding=UTF8&psc=1&refRID=Y799VVD4EK7EQ4G6XSV2 AUKEY Mirror Dash Cam Dual 6.8'' LCD Touchscreen Car Camera 1080p Front Camera and Water-Resistant Rear Camera Rearview Mirror Dash Cam with Parking Mode, Motion Detection $69.99\n"
     ]
    },
    {
     "name": "stdout",
     "output_type": "stream",
     "text": [
      "https://www.amazon.com/Blink-Smart-Security-Camera/dp/B07MMZ2LTB/ref=zg_bs_electronics_4?_encoding=UTF8&psc=1&refRID=Y799VVD4EK7EQ4G6XSV2 None None\n",
      "https://www.amazon.com/Sabrent-4-Port-Individual-Switches-HB-UMLS/dp/B00BWF5U0M/ref=zg_bs_electronics_31?_encoding=UTF8&psc=1&refRID=Y799VVD4EK7EQ4G6XSV2 None None\n",
      "https://www.amazon.com/Bototek-Protector-Charging-Extension-Smartphone/dp/B07MVZZV3G/ref=zg_bs_electronics_25?_encoding=UTF8&psc=1&refRID=Y799VVD4EK7EQ4G6XSV2 Power Strip, Bototek Surge Protector with 10 AC Outlets and 4 USB Charging Ports,1625W/13A, 2100 Joules, 6 Feet Long Extension Cord for Smartphone Tablets Home,Office, Hotel- Black $26.99\n",
      "https://www.amazon.com/Roku-Premiere-HDR-Streaming-Player-Premium/dp/B07HDBZN7Q/ref=zg_bs_electronics_10?_encoding=UTF8&psc=1&refRID=Y799VVD4EK7EQ4G6XSV2 Roku Premiere | HD/4K/HDR Streaming Media Player, Simple Remote and Premium HDMI Cable $29.00\n",
      "https://www.amazon.com/All-New-Fire-HD-8-Tablet/dp/B07TMJ1R3X/ref=zg_bs_electronics_18?_encoding=UTF8&psc=1&refRID=Y799VVD4EK7EQ4G6XSV2 All-new Fire HD 8 tablet, 8\" HD display, 32 GB, designed for portable entertainment, Black $89.99\n",
      "https://www.amazon.com/TCL-32S327-32-Inch-1080p-Smart/dp/B07F981R8M/ref=zg_bs_electronics_47?_encoding=UTF8&psc=1&refRID=Y799VVD4EK7EQ4G6XSV2 None None\n",
      "https://www.amazon.com/Acer-SB220Q-Ultra-Thin-Frame-Monitor/dp/B07CVL2D2S/ref=zg_bs_electronics_19?_encoding=UTF8&psc=1&refRID=Y799VVD4EK7EQ4G6XSV2 Acer SB220Q bi 21.5 inches Full HD (1920 x 1080) IPS Ultra-Thin Zero Frame Monitor (HDMI & VGA port),Black $89.99\n",
      "https://www.amazon.com/Apple-Watch-GPS-42mm-Space-Aluminium/dp/B07K387Y7K/ref=zg_bs_electronics_42?_encoding=UTF8&psc=1&refRID=Y799VVD4EK7EQ4G6XSV2 None None\n",
      "https://www.amazon.com/Apple-Watch-GPS-38mm-Silver-Aluminium/dp/B07K37HKT8/ref=zg_bs_electronics_44?_encoding=UTF8&psc=1&refRID=Y799VVD4EK7EQ4G6XSV2 None None\n",
      "https://www.amazon.com/Introducing-Ring-Indoor-Cam-Compact-Plug-In-HD-security-camera-with-two-way-talk-White-Works-with-Alexa-/dp/B07Q9VBYV8/ref=zg_bs_electronics_40?_encoding=UTF8&psc=1&refRID=Y799VVD4EK7EQ4G6XSV2 Ring Indoor Cam, Compact Plug-In HD security camera with two-way talk, Simple setup, Works with Alexa $59.99\n",
      "https://www.amazon.com/Apple-iPad-10-2-Inch-Wi-Fi-128GB/dp/B07XQZNM5S/ref=zg_bs_electronics_30?_encoding=UTF8&psc=1&refRID=Y799VVD4EK7EQ4G6XSV2 Apple iPad (10.2-inch, Wi-Fi, 128GB) - Space Gray (Latest Model) $329.99\n",
      "https://www.amazon.com/Ring-Video-Doorbell-3/dp/B0849J7W5X/ref=zg_bs_electronics_50?_encoding=UTF8&psc=1&refRID=Y799VVD4EK7EQ4G6XSV2 None None\n",
      "https://www.amazon.com/amFilm-Tempered-Screen-Protector-Nintendo-Switch/dp/B01N3ASPNV/ref=zg_bs_electronics_33?_encoding=UTF8&psc=1&refRID=Y799VVD4EK7EQ4G6XSV2 amFilm Tempered Glass Screen Protector for Nintendo Switch 2017 (2-Pack) $8.99\n",
      "https://www.amazon.com/Roku-Streaming-Stick-HDR-Streaming-Long-range/dp/B075XLWML4/ref=zg_bs_electronics_7?_encoding=UTF8&psc=1&refRID=Y799VVD4EK7EQ4G6XSV2 None None\n",
      "https://www.amazon.com/All-new-Kindle-Built-Unlimited-auto-renewal/dp/B085VT322X/ref=zg_bs_electronics_20?_encoding=UTF8&psc=1&refRID=Y799VVD4EK7EQ4G6XSV2 All-new Kindle - Now with a Built-in Front Light - Black - Includes Special Offers + Kindle Unlimited (with auto-renewal) $64.99\n",
      "https://www.amazon.com/Insignia-NS-24DF311SE21-24-inch-Smart-HD/dp/B0874Y42B7/ref=zg_bs_electronics_41?_encoding=UTF8&psc=1&refRID=Y799VVD4EK7EQ4G6XSV2 Insignia NS-24DF311SE21 24-inch Smart HD TV - Fire TV Edition $149.99\n",
      "https://www.amazon.com/Apple-Watch-GPS-38mm-Space-Aluminium/dp/B07K39FRSL/ref=zg_bs_electronics_23?_encoding=UTF8&psc=1&refRID=Y799VVD4EK7EQ4G6XSV2 None None\n",
      "https://www.amazon.com/Letsfit-inteligente-frecuencia-actividad-resistente/dp/B07X2KLTJ2/ref=zg_bs_electronics_45?_encoding=UTF8&psc=1&refRID=Y799VVD4EK7EQ4G6XSV2 None None\n",
      "https://www.amazon.com/OHill-Organizer-Management-Organizing-Adhesive/dp/B071FXZBMV/ref=zg_bs_electronics_34?_encoding=UTF8&psc=1&refRID=Y799VVD4EK7EQ4G6XSV2 None None\n",
      "https://www.amazon.com/Fire-Tablet-7/dp/B07FKR6KXF/ref=zg_bs_electronics_3?_encoding=UTF8&psc=1&refRID=Y799VVD4EK7EQ4G6XSV2 None None\n",
      "https://www.amazon.com/All-new-Ring-Stick-Battery-Charcoal/dp/B07ZZY2F17/ref=zg_bs_electronics_49?_encoding=UTF8&psc=1&refRID=Y799VVD4EK7EQ4G6XSV2 All-new Ring Stick Up Cam Battery with Echo Dot (Charcoal) $129.98\n",
      "https://www.amazon.com/Fire-7-Kids-Edition-Tablet/dp/B07H8WS1FT/ref=zg_bs_electronics_27?_encoding=UTF8&psc=1&refRID=Y799VVD4EK7EQ4G6XSV2 Fire 7 Kids Edition Tablet, 7\" Display, 16 GB, Blue Kid-Proof Case $99.99\n",
      "https://www.amazon.com/Echo-Flex/dp/B07MLY3JKV/ref=zg_bs_electronics_48?_encoding=UTF8&psc=1&refRID=Y799VVD4EK7EQ4G6XSV2 None None\n",
      "https://www.amazon.com/Echo-Studio/dp/B07G9Y3ZMC/ref=zg_bs_electronics_35?_encoding=UTF8&psc=1&refRID=Y799VVD4EK7EQ4G6XSV2 None None\n",
      "https://www.amazon.com/Fire-HD-10/dp/B07K1RZWMC/ref=zg_bs_electronics_15?_encoding=UTF8&psc=1&refRID=Y799VVD4EK7EQ4G6XSV2 Fire HD 10 Tablet (10.1\" 1080p full HD display, 32 GB) – Black $149.99\n",
      "https://www.amazon.com/Fujifilm-INSTAX-Instant-Twin-Pack/dp/B00EB4ADQW/ref=zg_bs_electronics_26?_encoding=UTF8&psc=1&refRID=Y799VVD4EK7EQ4G6XSV2 Fujifilm Instax Mini Instant Film Twin Pack (White) $11.89\n",
      "https://www.amazon.com/Dockers-Mens-Classic-Fit-Perfect-Short-Cotton/dp/B009CTUHOY/ref=zg_bs_fashion_25?_encoding=UTF8&psc=1&refRID=NXNHK2QRRRSR2NM1P5RG Dockers Men's Classic Fit Perfect Short $24.99\n",
      "https://www.amazon.com/Amazon-Essentials-Classic-Fit-Print-Pineapple/dp/B07F2D1YW2/ref=zg_bs_fashion_16?_encoding=UTF8&psc=1&refRID=NXNHK2QRRRSR2NM1P5RG Amazon Essentials Men's Classic-Fit 9\" Short $15.50\n",
      "https://www.amazon.com/Unionbay-Cordova-Belted-Cargo-Messenger/dp/B00PI5FFJS/ref=zg_bs_fashion_34?_encoding=UTF8&psc=1&refRID=NXNHK2QRRRSR2NM1P5RG Unionbay Men's Cordova Belted Messenger Cargo Short - Reg and Big and Tall Sizes $25.00\n",
      "https://www.amazon.com/Hanes-Womens-T-Shirt-Small-Black/dp/B00KRYLG7U/ref=zg_bs_fashion_30?_encoding=UTF8&psc=1&refRID=NXNHK2QRRRSR2NM1P5RG Hanes Women's Nano T-Shirt $5.96\n",
      "https://www.amazon.com/INTO-AM-Electric-Seamless-Bandana/dp/B0754N33D4/ref=zg_bs_fashion_21?_encoding=UTF8&psc=1&refRID=NXNHK2QRRRSR2NM1P5RG None None\n",
      "https://www.amazon.com/Fruit-Loom-T-Shirt-Multipack-Assorted/dp/B07BBJKPLZ/ref=zg_bs_fashion_41?_encoding=UTF8&psc=1&refRID=NXNHK2QRRRSR2NM1P5RG Fruit of the Loom Men's Stay Tucked Crew T-Shirt $15.99\n",
      "https://www.amazon.com/YunJey-sleeve-triple-stripe-T-shirt/dp/B074T31XSC/ref=zg_bs_fashion_29?_encoding=UTF8&psc=1&refRID=NXNHK2QRRRSR2NM1P5RG None None\n",
      "https://www.amazon.com/Amazon-Essentials-Regular-Fit-Cotton-Pique/dp/B01IXFRBWS/ref=zg_bs_fashion_43?_encoding=UTF8&psc=1&refRID=NXNHK2QRRRSR2NM1P5RG Amazon Essentials Men's Regular-fit Cotton Pique Polo Shirt $12.00\n",
      "https://www.amazon.com/Amazon-Essentials-Classic-Fit-Cargo-Short/dp/B07756DQHF/ref=zg_bs_fashion_36?_encoding=UTF8&psc=1&refRID=NXNHK2QRRRSR2NM1P5RG Amazon Essentials Men's Classic-Fit Cargo Short $18.00\n",
      "https://www.amazon.com/Achiou-Mask-Dust-Protection-Lightweight-Breathable/dp/B07T2MD442/ref=zg_bs_fashion_14?_encoding=UTF8&psc=1&refRID=NXNHK2QRRRSR2NM1P5RG Achiou Neck Gaiter Face Scarf Mask-Dust, Sun Protection Cool Lightweight Windproof, Breathable Fishing Hiking Running Cycling $12.95\n",
      "https://www.amazon.com/Fruit-Loom-CoolZone-Briefs-Assorted/dp/B07P7FGBGB/ref=zg_bs_fashion_9?_encoding=UTF8&psc=1&refRID=NXNHK2QRRRSR2NM1P5RG Fruit of the Loom Men's Coolzone Boxer Briefs (Assorted colors) $14.99\n",
      "https://www.amazon.com/Fruit-Loom-womens-Cotton-Pullover/dp/B07K9C8NRT/ref=zg_bs_fashion_33?_encoding=UTF8&psc=1&refRID=NXNHK2QRRRSR2NM1P5RG Fruit of the Loom Women's Cotton Pullover Sport Bra(Pack of 3) $12.94\n",
      "https://www.amazon.com/Toddler-Non-Slip-Barefoot-Aqua-Socks-Boys-Girls-Toddler/dp/B07DDG2R7M/ref=zg_bs_fashion_31?_encoding=UTF8&psc=1&refRID=NXNHK2QRRRSR2NM1P5RG Bigib Toddler Kids Swim Water Shoes Quick Dry Non-Slip Water Skin Barefoot Sports Shoes Aqua Socks for Boys Girls Toddler $11.99\n",
      "https://www.amazon.com/Amazon-Essentials-Regular-Fit-Quick-Dry-X-Small/dp/B06XWMJFGG/ref=zg_bs_fashion_18?_encoding=UTF8&psc=1&refRID=NXNHK2QRRRSR2NM1P5RG Amazon Essentials Men's Regular-fit Quick-Dry Golf Polo Shirt $15.00\n",
      "https://www.amazon.com/Tempt-Me-Swimsuit-V-Neckline-Monokini/dp/B07MR59FTP/ref=zg_bs_fashion_44?_encoding=UTF8&psc=1&refRID=NXNHK2QRRRSR2NM1P5RG Tempt Me Women One Piece Swimsuit High Neck Plunge Mesh Ruched Monokini Swimwear $16.99\n"
     ]
    },
    {
     "name": "stdout",
     "output_type": "stream",
     "text": [
      "https://www.amazon.com/Champion-Jersey-Short-Pockets-Black/dp/B00AKSCXBQ/ref=zg_bs_fashion_2?_encoding=UTF8&psc=1&refRID=NXNHK2QRRRSR2NM1P5RG Champion Men's Jersey Short With Pockets $14.99\n",
      "https://www.amazon.com/Dickies-Multi-Pack-Dri-Tech-Moisture-Control/dp/B01N6YAVNM/ref=zg_bs_fashion_20?_encoding=UTF8&psc=1&refRID=NXNHK2QRRRSR2NM1P5RG Dickies Men's Dri-tech Moisture Control Crew Socks Multipack $25.98\n",
      "https://www.amazon.com/Levis-Bandanas-100-Cotton-Headband/dp/B009YQX1SO/ref=zg_bs_fashion_45?_encoding=UTF8&psc=1&refRID=NXNHK2QRRRSR2NM1P5RG Levi's Men's 100% Cotton Multi-Purpose Bandana Gift Sets – Headband, Wrap, Protective Coverage $12.00\n",
      "https://www.amazon.com/Gildan-Shirts-Multipack-Black-Small/dp/B07JCJMPVN/ref=zg_bs_fashion_28?_encoding=UTF8&psc=1&refRID=NXNHK2QRRRSR2NM1P5RG Gildan Men's A-Shirts Tanks Multipack $12.71\n",
      "https://www.amazon.com/Next-Level-Womens-Festival-Tank/dp/B079SPMGNN/ref=zg_bs_fashion_40?_encoding=UTF8&psc=1&refRID=NXNHK2QRRRSR2NM1P5RG None None\n",
      "https://www.amazon.com/Gildan-Mens-T-Shirt-Assortment-Small/dp/B077ZKF9ZN/ref=zg_bs_fashion_42?_encoding=UTF8&psc=1&refRID=NXNHK2QRRRSR2NM1P5RG None None\n",
      "https://www.amazon.com/Under-Armour-T-Shirt-Academy-Graphite/dp/B07813H62D/ref=zg_bs_fashion_5?_encoding=UTF8&psc=1&refRID=NXNHK2QRRRSR2NM1P5RG Under Armour Men's Tech 2.0 Short Sleeve T-Shirt $16.24\n",
      "https://www.amazon.com/Hanes-Mens-Sleeve-T-Shirt-X-Small/dp/B06ZZB5M4H/ref=zg_bs_fashion_12?_encoding=UTF8&psc=1&refRID=NXNHK2QRRRSR2NM1P5RG Hanes Men's Long Sleeve Cool Dri T-Shirt UPF 50+ (Pack of 2) $28.30\n",
      "https://www.amazon.com/CUSHIONAIRE-Womens-Footbed-Sandal-Comfort/dp/B0848Q5PWZ/ref=zg_bs_fashion_50?_encoding=UTF8&psc=1&refRID=NXNHK2QRRRSR2NM1P5RG CUSHIONAIRE Women's Luna Cork Footbed Sandal with +Comfort $24.99\n",
      "https://www.amazon.com/Gildan-V-Neck-T-Shirts-Multi-Small/dp/B077ZL67P2/ref=zg_bs_fashion_47?_encoding=UTF8&psc=1&refRID=NXNHK2QRRRSR2NM1P5RG Gildan Men's Assorted V-Neck T-Shirts Multipack $15.96\n",
      "https://www.amazon.com/VENUZOR-Waist-Trainer-Belt-Women/dp/B0782TSJRT/ref=zg_bs_fashion_35?_encoding=UTF8&psc=1&refRID=NXNHK2QRRRSR2NM1P5RG None None\n",
      "https://www.amazon.com/Hanes-Ecosmart-Fleece-Sweatshirt-Forest/dp/B01L8JJ7XW/ref=zg_bs_fashion_26?_encoding=UTF8&psc=1&refRID=NXNHK2QRRRSR2NM1P5RG None None\n",
      "https://www.amazon.com/Reef-Fanning-Black-Silver-D-Medium/dp/B00ZUY6INY/ref=zg_bs_fashion_46?_encoding=UTF8&psc=1&refRID=NXNHK2QRRRSR2NM1P5RG REEF Men's Fanning Flip Flop $55.00\n",
      "https://www.amazon.com/Under-Armour-Ignite-Slide-Sandal/dp/B07PYYSDVC/ref=zg_bs_fashion_27?_encoding=UTF8&psc=1&refRID=NXNHK2QRRRSR2NM1P5RG Under Armour Men's Ignite Vi Sl Slide Sandal $35.00\n",
      "https://www.amazon.com/Champion-Short-Pockets-Athletic-Small/dp/B000J6ZYL0/ref=zg_bs_fashion_22?_encoding=UTF8&psc=1&refRID=NXNHK2QRRRSR2NM1P5RG Champion Men's Long Mesh Short with Pockets $17.50\n",
      "https://www.amazon.com/Next-Level-Apparel-Quality-X-Small/dp/B07B3YCFTS/ref=zg_bs_fashion_8?_encoding=UTF8&psc=1&refRID=NXNHK2QRRRSR2NM1P5RG None None\n",
      "https://www.amazon.com/Carhartt-Workwear-Pocket-Short-Sleeve-T-Shirt/dp/B0007XB2Y8/ref=zg_bs_fashion_1?_encoding=UTF8&psc=1&refRID=NXNHK2QRRRSR2NM1P5RG Carhartt Men's K87 Workwear Pocket Short Sleeve T-Shirt (Regular and Big & Tall Sizes) $12.74\n",
      "https://www.amazon.com/adidas-Adilette-Shower-Slide-Sandal/dp/B07SCW8B58/ref=zg_bs_fashion_3?_encoding=UTF8&psc=1&refRID=NXNHK2QRRRSR2NM1P5RG None None\n",
      "https://www.amazon.com/Hanes-Short-Sleeve-Beefy-T-Shirt-Black/dp/B00NOY3MGI/ref=zg_bs_fashion_11?_encoding=UTF8&psc=1&refRID=NXNHK2QRRRSR2NM1P5RG Hanes Men's Short Sleeve Beefy-t $6.43\n",
      "https://www.amazon.com/Under-Armour-Shorts-Graphite-X-Small/dp/B017HTKLFU/ref=zg_bs_fashion_32?_encoding=UTF8&psc=1&refRID=NXNHK2QRRRSR2NM1P5RG Under Armour Men's Raid 10-inch Workout Gym Shorts $22.49\n",
      "https://www.amazon.com/crocs-Littles-Clog-Infant-Little/dp/B004027VJM/ref=zg_bs_fashion_10?_encoding=UTF8&psc=1&refRID=NXNHK2QRRRSR2NM1P5RG None None\n",
      "https://www.amazon.com/Warners-Womens-Wire-Free-Biking-X-Small/dp/B07YVQM4L4/ref=zg_bs_fashion_48?_encoding=UTF8&psc=1&refRID=NXNHK2QRRRSR2NM1P5RG Warner's Women's Easy Does It No Bulge Wire-Free Bra, Inspired Blue, XS $28.00\n",
      "https://www.amazon.com/VIFUUR-Water-Sports-Unisex-Shoes/dp/B0749FWLTP/ref=zg_bs_fashion_7?_encoding=UTF8&psc=1&refRID=NXNHK2QRRRSR2NM1P5RG VIFUUR Water Sports Shoes Barefoot Quick-Dry Aqua Yoga Socks Slip-on for Men Women Kids $11.88\n",
      "https://www.amazon.com/Womens-Water-Barefoot-Quick-Dry-Exercise/dp/B07BPZ8S9W/ref=zg_bs_fashion_49?_encoding=UTF8&psc=1&refRID=NXNHK2QRRRSR2NM1P5RG None None\n",
      "https://www.amazon.com/Unionbay-Survivor-Belted-Cargo-Short/dp/B00PICJ2W2/ref=zg_bs_fashion_24?_encoding=UTF8&psc=1&refRID=NXNHK2QRRRSR2NM1P5RG UNIONBAY Men's Survivor Belted Cargo Short-Reg and Big & Tall Sizes $17.25\n",
      "https://www.amazon.com/iHeartRaves-Skeleton-Multi-functional-Seamless-Bandana/dp/B015YGSG0U/ref=zg_bs_fashion_19?_encoding=UTF8&psc=1&refRID=NXNHK2QRRRSR2NM1P5RG None None\n",
      "https://www.amazon.com/Gildan-Ultra-Cotton-Maroon-Small/dp/B01M0PEKRX/ref=zg_bs_fashion_15?_encoding=UTF8&psc=1&refRID=NXNHK2QRRRSR2NM1P5RG None None\n",
      "https://www.amazon.com/BALEAF-Womens-Workout-Exercise-Pockets/dp/B0872L7YGP/ref=zg_bs_fashion_13?_encoding=UTF8&psc=1&refRID=NXNHK2QRRRSR2NM1P5RG BALEAF Women's 8\" /5\" /2\" High Waist Workout Yoga Running Compression Exercise Shorts Side Pockets (Regular/Plus Size) $20.99\n",
      "https://www.amazon.com/Hanes-Comfortsoft-T-Shirt-Black-Small/dp/B00KBZOR94/ref=zg_bs_fashion_23?_encoding=UTF8&psc=1&refRID=NXNHK2QRRRSR2NM1P5RG Hanes Men's ComfortSoft Short Sleeve T-Shirt (4 Pack ) $14.57\n",
      "https://www.amazon.com/Hanes-Pullover-EcoSmart-Fleece-Sweatshirt/dp/B074VGQSXQ/ref=zg_bs_fashion_39?_encoding=UTF8&psc=1&refRID=NXNHK2QRRRSR2NM1P5RG None None\n",
      "https://www.amazon.com/FUNKYMONKEY-Waterproof-Adjustable-Sandals-Womens/dp/B07F8N1WNQ/ref=zg_bs_fashion_17?_encoding=UTF8&psc=1&refRID=NXNHK2QRRRSR2NM1P5RG FUNKYMONKEY Women's Comfort Slides Double Buckle Adjustable EVA Flat Sandals $14.99\n",
      "https://www.amazon.com/Crocs-Classic-Comfortable-Casual-Water/dp/B0825FV4F2/ref=zg_bs_fashion_4?_encoding=UTF8&psc=1&refRID=NXNHK2QRRRSR2NM1P5RG None None\n",
      "https://www.amazon.com/Gildan-G2000-Cotton-T-Shirt-2-Pack/dp/B07611Y7NN/ref=zg_bs_fashion_38?_encoding=UTF8&psc=1&refRID=NXNHK2QRRRSR2NM1P5RG Gildan Men's G2000 Ultra Cotton Adult T-Shirt, 2-Pack $8.52\n",
      "https://www.amazon.com/Fruit-Loom-Womens-Built-Up-Sports/dp/B07KL1WLG6/ref=zg_bs_fashion_37?_encoding=UTF8&psc=1&refRID=NXNHK2QRRRSR2NM1P5RG Fruit of the Loom Women's Built-Up Sports Bra (Pack of 3) $12.94\n",
      "https://www.amazon.com/Kanu-Surf-Barracuda-Trunks-Small/dp/B004DNVP8G/ref=zg_bs_fashion_6?_encoding=UTF8&psc=1&refRID=NXNHK2QRRRSR2NM1P5RG Kanu Surf Men's Barracuda Swim Trunks (Regular & Extended Sizes) $17.99\n"
     ]
    }
   ],
   "source": [
    "df_sub = df_sub.apply(row_scrape_event, axis=1)"
   ]
  },
  {
   "cell_type": "code",
   "execution_count": null,
   "metadata": {},
   "outputs": [],
   "source": [
    "df.to_csv(product_output, index=False)"
   ]
  },
  {
   "cell_type": "code",
   "execution_count": null,
   "metadata": {},
   "outputs": [],
   "source": [
    "final_df = pd.concat([products_df, df_sub])\n",
    "final_df.to_csv(product_output, index=False)\n"
   ]
  },
  {
   "cell_type": "code",
   "execution_count": null,
   "metadata": {},
   "outputs": [],
   "source": [
    "final_df.head()"
   ]
  }
 ],
 "metadata": {
  "kernelspec": {
   "display_name": "Python 3",
   "language": "python",
   "name": "python3"
  },
  "language_info": {
   "codemirror_mode": {
    "name": "ipython",
    "version": 3
   },
   "file_extension": ".py",
   "mimetype": "text/x-python",
   "name": "python",
   "nbconvert_exporter": "python",
   "pygments_lexer": "ipython3",
   "version": "3.7.6"
  }
 },
 "nbformat": 4,
 "nbformat_minor": 4
}
