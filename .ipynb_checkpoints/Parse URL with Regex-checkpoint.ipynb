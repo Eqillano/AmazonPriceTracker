{
 "cells": [
  {
   "cell_type": "code",
   "execution_count": 1,
   "metadata": {},
   "outputs": [],
   "source": [
    "import requests\n",
    "import re\n",
    "import time\n",
    "from requests_html import HTML\n",
    "from selenium import webdriver\n",
    "from selenium.webdriver.chrome.options import Options"
   ]
  },
  {
   "cell_type": "code",
   "execution_count": 2,
   "metadata": {},
   "outputs": [],
   "source": [
    "options = Options()\n",
    "options.add_argument('--headless')\n",
    "\n",
    "driver = webdriver.Chrome(options=options)"
   ]
  },
  {
   "cell_type": "code",
   "execution_count": 3,
   "metadata": {},
   "outputs": [],
   "source": [
    "\n",
    "categories = [\n",
    "    \"https://www.amazon.com/Best-Sellers-Toys-Games/zgbs/toys-and-games/\",\n",
    "    \"https://www.amazon.com/Best-Sellers-Electronics/zgbs/electronics/\",\n",
    "    \"https://www.amazon.com/Best-Sellers/zgbs/fashion/\"\n",
    "]"
   ]
  },
  {
   "cell_type": "code",
   "execution_count": 4,
   "metadata": {},
   "outputs": [],
   "source": [
    "first_url = categories[0]"
   ]
  },
  {
   "cell_type": "code",
   "execution_count": 5,
   "metadata": {},
   "outputs": [],
   "source": [
    "driver.get(first_url) "
   ]
  },
  {
   "cell_type": "code",
   "execution_count": 6,
   "metadata": {},
   "outputs": [],
   "source": [
    "body_el = driver.find_element_by_css_selector(\"body\")\n",
    "html_str = body_el.get_attribute(\"innerHTML\")"
   ]
  },
  {
   "cell_type": "code",
   "execution_count": 7,
   "metadata": {},
   "outputs": [],
   "source": [
    "\n",
    "html_obj = HTML(html=html_str)"
   ]
  },
  {
   "cell_type": "code",
   "execution_count": 8,
   "metadata": {},
   "outputs": [],
   "source": [
    "page_links = [f\"https://www.amazon.com{x}\" for x in html_obj.links if x.startswith(\"/\")]"
   ]
  },
  {
   "cell_type": "code",
   "execution_count": 9,
   "metadata": {},
   "outputs": [],
   "source": [
    "new_links = [x for x in html_obj.links if x.startswith(\"/\")]\n",
    "def clean_page_links(page_links):\n",
    "    final_page_links = []\n",
    "    for url in page_links:\n",
    "        product_id \n",
    "new_links = [x for x in new_links if \"product-reviews/\" not in x]"
   ]
  },
  {
   "cell_type": "code",
   "execution_count": 10,
   "metadata": {},
   "outputs": [
    {
     "data": {
      "text/plain": [
       "['https://www.amazon.com/SwimWays-Toypedo-Bandits-Pool-Diving/dp/B0038ZVPFI/ref=zg_bs_toys-and-games_29/138-2212814-4458335?_encoding=UTF8&psc=1&refRID=9E5K83ZYWQ580DTD2E41',\n",
       " 'https://www.amazon.com/gcx/Gifts-for-Father%27s-Day/gfhz/events/ref=FD20SWM1/?_encoding=UTF8&categoryId=fathers-day&ref_=nav_swm_undefined&pf_rd_p=6c110510-3193-4715-81ac-101fa7d69aba&pf_rd_s=nav-sitewide-msg-text&pf_rd_t=4201&pf_rd_i=navbar-4201&pf_rd_m=ATVPDKIKX0DER&pf_rd_r=9E5K83ZYWQ580DTD2E41',\n",
       " 'https://www.amazon.com/Exploding-Kittens-LLC-EKG-ORG1-1-Card/dp/B010TQY7A8/ref=zg_bs_toys-and-games_35/138-2212814-4458335?_encoding=UTF8&psc=1&refRID=9E5K83ZYWQ580DTD2E41',\n",
       " 'https://www.amazon.com/prime/ref=nav_tooltip_redirect/138-2212814-4458335',\n",
       " 'https://www.amazon.com/product-reviews/B07C4NGT17/ref=zg_bs_toys-and-games_cr_5/138-2212814-4458335?ie=UTF8&refRID=9E5K83ZYWQ580DTD2E41',\n",
       " 'https://www.amazon.com/clouddrive?ref_=nav_AccountFlyout_clddrv',\n",
       " 'https://www.amazon.com/stylequiz/?ref_=nav_ListFlyout_sq_ya_yl',\n",
       " 'https://www.amazon.com/Pacon-PAC6555-Lightweight-Construction-Assorted/dp/B0013CDJTS/ref=zg_bs_toys-and-games_33/138-2212814-4458335?_encoding=UTF8&psc=1&refRID=9E5K83ZYWQ580DTD2E41',\n",
       " 'https://www.amazon.com/product-reviews/B077V63LX4/ref=zg_bs_toys-and-games_cr_38/138-2212814-4458335?ie=UTF8&refRID=9E5K83ZYWQ580DTD2E41',\n",
       " 'https://www.amazon.com/First-Years-Disney-Mickey-Squirt/dp/B06Y1G2MH9/ref=zg_bs_toys-and-games_38/138-2212814-4458335?_encoding=UTF8&psc=1&refRID=9E5K83ZYWQ580DTD2E41',\n",
       " 'https://www.amazon.com/SplashEZ-Splash-Sprinkler-Toddler-Learning/dp/B0836WRWFY/ref=zg_bs_toys-and-games_6/138-2212814-4458335?_encoding=UTF8&psc=1&refRID=9E5K83ZYWQ580DTD2E41',\n",
       " 'https://www.amazon.com/localservices/ya/servicerequests?ref_=nav_AccountFlyout_desktop_vas_requestlist',\n",
       " 'https://www.amazon.com/gp/kindle/ku/ku_central?ref_=nav_AccountFlyout_ku',\n",
       " 'https://www.amazon.com/gp/help/customer/display.html?ie=UTF8&nodeId=GDFU3JS5AL6SYHRD&ref_=footer_covid',\n",
       " 'https://www.amazon.com/product-reviews/B00000IVAK/ref=zg_bs_toys-and-games_cr_36/138-2212814-4458335?ie=UTF8&refRID=9E5K83ZYWQ580DTD2E41',\n",
       " 'https://www.amazon.com/compare-credit-card-offers/b?ie=UTF8&node=3561432011&ref_=footer_ccmp',\n",
       " 'https://www.amazon.com/photos?ref_=nav_AccountFlyout_primephotos',\n",
       " 'https://www.amazon.com/Play-Doh-Pack-Case-Blue/dp/B07BC152DC/ref=zg_bs_toys-and-games_16/138-2212814-4458335?_encoding=UTF8&psc=1&refRID=9E5K83ZYWQ580DTD2E41',\n",
       " 'https://www.amazon.com/product-reviews/B08B1PTGGF/ref=zg_bs_toys-and-games_cr_33/138-2212814-4458335?ie=UTF8&refRID=9E5K83ZYWQ580DTD2E41',\n",
       " 'https://www.amazon.com/gp/css/homepage.html?ref_=nav_AccountFlyout_ya',\n",
       " 'https://www.amazon.com/gp/pantry/yourlists?ref_=nav_ListFlyout_pntry_gno',\n",
       " 'https://www.amazon.com/gp/goldbox?ref_=nav_cs_gb',\n",
       " 'https://www.amazon.com/product-reviews/B00062J99K/ref=zg_bs_toys-and-games_cr_42/138-2212814-4458335?ie=UTF8&refRID=9E5K83ZYWQ580DTD2E41',\n",
       " 'https://www.amazon.com/gp/prime?ie=UTF8&ref_=footer_prime',\n",
       " 'https://www.amazon.com/product-reviews/B084ZNK9NV/ref=zg_bs_toys-and-games_cr_6/138-2212814-4458335?ie=UTF8&refRID=9E5K83ZYWQ580DTD2E41',\n",
       " 'https://www.amazon.com/Homech-Inflatable-Swimming-Full-Sized-Toddlers/dp/B083PRCZDM/ref=zg_bs_toys-and-games_23/138-2212814-4458335?_encoding=UTF8&psc=1&refRID=9E5K83ZYWQ580DTD2E41',\n",
       " 'https://www.amazon.com/product-reviews/B00PYLU3GG/ref=zg_bs_toys-and-games_cr_45/138-2212814-4458335?ie=UTF8&refRID=9E5K83ZYWQ580DTD2E41',\n",
       " 'https://www.amazon.com/product-reviews/B07SGYKPHK/ref=zg_bs_toys-and-games_cr_48/138-2212814-4458335?ie=UTF8&refRID=9E5K83ZYWQ580DTD2E41',\n",
       " 'https://www.amazon.com/product-reviews/B085GK58NP/ref=zg_bs_toys-and-games_cr_2/138-2212814-4458335?ie=UTF8&refRID=9E5K83ZYWQ580DTD2E41',\n",
       " 'https://www.amazon.com/l/ref=map_1_b2b_GW_FT?_encoding=UTF8&node=17882322011',\n",
       " 'https://www.amazon.com/product-reviews/B000PEOMC8/ref=zg_bs_toys-and-games_cr_4/138-2212814-4458335?ie=UTF8&refRID=9E5K83ZYWQ580DTD2E41',\n",
       " 'https://www.amazon.com/gp/bestsellers/?ref_=nav_cs_bestsellers',\n",
       " 'https://www.amazon.com/Crayola-Wonder-Drawing-Cantidad-paquete/dp/B07PMLL5L7/ref=zg_bs_toys-and-games_12/138-2212814-4458335?_encoding=UTF8&psc=1&refRID=9E5K83ZYWQ580DTD2E41',\n",
       " 'https://www.amazon.com/Currency-Converter/b?ie=UTF8&node=388305011&ref_=footer_tfx',\n",
       " 'https://www.amazon.com/gp/bestsellers/toys-and-games/?ie=UTF8&ie=UTF8&ref_=sv_t_3',\n",
       " 'https://www.amazon.com/amazonsecondchance?_encoding=UTF8&ref_=footer_asc',\n",
       " 'https://www.amazon.com/ref=nav_logo',\n",
       " 'https://www.amazon.com/yourpets?ref_=nav_AccountFlyout_pet_profiles',\n",
       " 'https://www.amazon.com/gp/help/customer/display.html?nodeId=508510&ref_=nav_cs_customerservice',\n",
       " 'https://www.amazon.com/baby-reg/homepage?ref_=nav_ListFlyout_br',\n",
       " 'https://www.amazon.com/product-reviews/B0872J1CNY/ref=zg_bs_toys-and-games_cr_40/138-2212814-4458335?ie=UTF8&refRID=9E5K83ZYWQ580DTD2E41',\n",
       " 'https://www.amazon.com/Intex-River-Lounge-Inflatable-Diameter/dp/B000PEOMC8/ref=zg_bs_toys-and-games_4/138-2212814-4458335?_encoding=UTF8&psc=1&refRID=9E5K83ZYWQ580DTD2E41',\n",
       " 'https://www.amazon.com/product-reviews/B071NRZM5L/ref=zg_bs_toys-and-games_cr_25/138-2212814-4458335?ie=UTF8&refRID=9E5K83ZYWQ580DTD2E41',\n",
       " 'https://www.amazon.com/gp/help/customer/display.html?ie=UTF8&nodeId=508088&ref_=footer_cou',\n",
       " 'https://www.amazon.com/International-Shipping-Direct/b?ie=UTF8&node=230659011&ref_=footer_amazonglobal',\n",
       " 'https://www.amazon.com/gp/help/customer/display.html?nodeId=508510&ref_=nav_youraccount_help',\n",
       " 'https://www.amazon.com/product-reviews/B088V564QD/ref=zg_bs_toys-and-games_cr_49/138-2212814-4458335?ie=UTF8&refRID=9E5K83ZYWQ580DTD2E41',\n",
       " 'https://www.amazon.com/product-reviews/B088W47G1R/ref=zg_bs_toys-and-games_cr_14/138-2212814-4458335?ie=UTF8&refRID=9E5K83ZYWQ580DTD2E41',\n",
       " 'https://www.amazon.com/gp/registry/search?ref_=nav_ListFlyout_find',\n",
       " 'https://www.amazon.com/gp/help/customer/display.html?ie=UTF8&nodeId=508510&ref_=footer_gw_m_b_he',\n",
       " 'https://www.amazon.com/gcx/Gifts-for-Everyone/gfhz/?_encoding=UTF8&ref_=nav_wishlist_gf',\n",
       " 'https://www.amazon.com/Prime-Instant-Video/s/browse?node=2676882011&ref_=nav_AccountFlyout_piv',\n",
       " 'https://www.amazon.com/gp/navigation/redirector.html/ref=sign-in-redirect?ie=UTF8&associationHandle=usflex&currentPageURL=https%3A%2F%2Fwww.amazon.com%2FBest-Sellers-Toys-Games%2Fzgbs%2Ftoys-and-games%2F%3Fref_%3Dnav_custrec_signin&pageType=zeitgeist&switchAccount=&yshURL=https%3A%2F%2Fwww.amazon.com%2Fgp%2Fyourstore%2Fhome%3Fie%3DUTF8%26ref_%3Dnav_custrec_signin',\n",
       " 'https://www.amazon.com/product-reviews/B083ZZSGLR/ref=zg_bs_toys-and-games_cr_37/138-2212814-4458335?ie=UTF8&refRID=9E5K83ZYWQ580DTD2E41',\n",
       " 'https://www.amazon.com/Warehouse-Deals/b?ie=UTF8&node=10158976011&ref_=footer_wrhsdls',\n",
       " 'https://www.amazon.com/Play-Doh-Modeling-Compound-Non-Toxic-Exclusive/dp/B00JM5GW10/ref=zg_bs_toys-and-games_39/138-2212814-4458335?_encoding=UTF8&psc=1&refRID=9E5K83ZYWQ580DTD2E41',\n",
       " 'https://www.amazon.com/Inflatable-Splash-Sprinkler-Toddlers-Outdoor/dp/B082WXCM5W/ref=zg_bs_toys-and-games_3/138-2212814-4458335?_encoding=UTF8&psc=1&refRID=9E5K83ZYWQ580DTD2E41',\n",
       " 'https://www.amazon.com/Protector-Proofing-Protectors-Furniture-CalMyotis/dp/B0771L5HN5/ref=zg_bs_toys-and-games_30/138-2212814-4458335?_encoding=UTF8&psc=1&refRID=9E5K83ZYWQ580DTD2E41',\n",
       " 'https://www.amazon.com/product-reviews/B0863H5CPM/ref=zg_bs_toys-and-games_cr_39/138-2212814-4458335?ie=UTF8&refRID=9E5K83ZYWQ580DTD2E41',\n",
       " 'https://www.amazon.com/product-reviews/B07TZ5NGP7/ref=zg_bs_toys-and-games_cr_17/138-2212814-4458335?ie=UTF8&refRID=9E5K83ZYWQ580DTD2E41',\n",
       " 'https://www.amazon.com/Little-Tikes-EasyScore-Basketball-Exclusive/dp/B01C5A2WJO/ref=zg_bs_toys-and-games_28/138-2212814-4458335?_encoding=UTF8&psc=1&refRID=9E5K83ZYWQ580DTD2E41',\n",
       " 'https://www.amazon.com/iss/credit/rewardscardmember?_encoding=UTF8&plattr=CBFOOT&ref_=footer_cbcc',\n",
       " 'https://www.amazon.com/gp/css/returns/homepage.html?ie=UTF8&ref_=footer_hy_f_4',\n",
       " 'https://www.amazon.com/b/?_encoding=UTF8&node=2241292011&ref_=sv_t_7',\n",
       " 'https://www.amazon.com/gp/video/watchlist?ref_=nav_AccountFlyout_ywl',\n",
       " 'https://www.amazon.com/prime?ref_=nav_prime_try_btn',\n",
       " 'https://www.amazon.com/b/?ie=UTF8&node=17728536011&ref_=sv_t_6',\n",
       " 'https://www.amazon.com/product-reviews/B0038ZVPFI/ref=zg_bs_toys-and-games_cr_29/138-2212814-4458335?ie=UTF8&refRID=9E5K83ZYWQ580DTD2E41',\n",
       " 'https://www.amazon.com/product-reviews/B083X7PPQK/ref=zg_bs_toys-and-games_cr_47/138-2212814-4458335?ie=UTF8&refRID=9E5K83ZYWQ580DTD2E41',\n",
       " 'https://www.amazon.com/gp/help/customer/display.html?ie=UTF8&nodeId=468496&ref_=footer_privacy',\n",
       " 'https://www.amazon.com/Baby-Einstein-Creative-Composer-Musical/dp/B083XNLSN3/ref=zg_bs_toys-and-games_47/138-2212814-4458335?_encoding=UTF8&psc=1&refRID=9E5K83ZYWQ580DTD2E41',\n",
       " 'https://www.amazon.com/ref=footer_logo',\n",
       " 'https://www.amazon.com/product-reviews/B083PRCZDM/ref=zg_bs_toys-and-games_cr_23/138-2212814-4458335?ie=UTF8&refRID=9E5K83ZYWQ580DTD2E41',\n",
       " 'https://www.amazon.com/Alberca-ni%C3%B1os-dise%C3%B1o-atardecer-pulgadas/dp/B0000U11LW/ref=zg_bs_toys-and-games_31/138-2212814-4458335?_encoding=UTF8&psc=1&refRID=9E5K83ZYWQ580DTD2E41',\n",
       " 'https://www.amazon.com/Certified-Refurbished/b?ie=UTF8&node=12653393011&ref_=footer_usrenew',\n",
       " 'https://www.amazon.com/product-reviews/B08634WKC7/ref=zg_bs_toys-and-games_cr_20/138-2212814-4458335?ie=UTF8&refRID=9E5K83ZYWQ580DTD2E41',\n",
       " 'https://www.amazon.com/interestbasedads/ref=footer_iba',\n",
       " 'https://www.amazon.com/b/?_encoding=UTF8&ld=AZUSSOA-sell&node=12766669011&ref_=nav_cs_sell',\n",
       " 'https://www.amazon.com/product-reviews/B07RVDDM8J/ref=zg_bs_toys-and-games_cr_16/138-2212814-4458335?ie=UTF8&refRID=9E5K83ZYWQ580DTD2E41',\n",
       " 'https://www.amazon.com/STRING-subnav-prime-photos/b?ie=UTF8&node=13234696011&ref_=gno_p_foot',\n",
       " 'https://www.amazon.com/product-reviews/B083NZXQ49/ref=zg_bs_toys-and-games_cr_26/138-2212814-4458335?ie=UTF8&refRID=9E5K83ZYWQ580DTD2E41',\n",
       " 'https://www.amazon.com/Free-Swimming-Baby-Inflatable-Accessories/dp/B072N2J366/ref=zg_bs_toys-and-games_14/138-2212814-4458335?_encoding=UTF8&psc=1&refRID=9E5K83ZYWQ580DTD2E41',\n",
       " 'https://www.amazon.com/yourmembershipsandsubscriptions?ref_=nav_AccountFlyout_digital_subscriptions',\n",
       " 'https://www.amazon.com/Nerf-Doomlands-Judge-Amazon-Exclusive/dp/B06Y6FV3V4/ref=zg_bs_toys-and-games_25/138-2212814-4458335?_encoding=UTF8&psc=1&refRID=9E5K83ZYWQ580DTD2E41',\n",
       " 'https://www.amazon.com/gp/registry/wishlist?triggerElementID=createList&ref_=nav_ListFlyout_create',\n",
       " 'https://www.amazon.com/gp/css/homepage.html?ie=UTF8&ref_=footer_ya',\n",
       " 'https://www.amazon.com/Cards-Against-Humanity-LLC-CAHUS/dp/B004S8F7QM/ref=zg_bs_toys-and-games_18/138-2212814-4458335?_encoding=UTF8&psc=1&refRID=9E5K83ZYWQ580DTD2E41',\n",
       " 'https://www.amazon.com/ideas/saves?ref_=nav_ListFlyout_strm_in_youtique_lists',\n",
       " 'https://www.amazon.com/gp/navigation-country/select-country/ref=footer_icp_cp_t1?ie=UTF8&preferencesReturnUrl=%2F',\n",
       " 'https://www.amazon.com/discover/?ref_=nav_ListFlyout_sbl',\n",
       " 'https://www.amazon.com/SunWorks-Construction-Assorted-Colors-Sheets/dp/B0013CA0LI/ref=zg_bs_toys-and-games_11/138-2212814-4458335?_encoding=UTF8&psc=1&refRID=9E5K83ZYWQ580DTD2E41',\n",
       " 'https://www.amazon.com/gp/new-releases/?ref_=nav_cs_newreleases',\n",
       " 'https://www.amazon.com/STRING-subnav_primephotos_amazondrive/b?ie=UTF8&node=15547130011&ref_=us_footer_drive',\n",
       " 'https://www.amazon.com/services?_encoding=UTF8&ref_=footer_services',\n",
       " 'https://www.amazon.com/Little-Tikes-Snug-Secure-Swing/dp/B01DGIKD68/ref=zg_bs_toys-and-games_46/138-2212814-4458335?_encoding=UTF8&psc=1&refRID=9E5K83ZYWQ580DTD2E41',\n",
       " 'https://www.amazon.com/b?ie=UTF8&node=14498690011&ref_=amzn_nav_ftr_swa',\n",
       " 'https://www.amazon.com/product-reviews/B07XRFH11M/ref=zg_bs_toys-and-games_cr_28/138-2212814-4458335?ie=UTF8&refRID=9E5K83ZYWQ580DTD2E41',\n",
       " 'https://www.amazon.com/Waterproof-Stickers-Luggage-Scrapbook-Postcard/dp/B07QR3NWGK/ref=zg_bs_toys-and-games_32/138-2212814-4458335?_encoding=UTF8&psc=1&refRID=9E5K83ZYWQ580DTD2E41',\n",
       " 'https://www.amazon.com/gp/cart/view.html?ref_=nav_cart',\n",
       " 'https://www.amazon.com/fanshop?ref_=nav_AccountFlyout_yfs',\n",
       " 'https://www.amazon.com/gcx/Summer-toy-list-preview/gfhz/events/?_encoding=UTF8&categoryId=kgg-stl-preview&ref_=sv_t_1',\n",
       " 'https://www.amazon.com/Nuby-Floating-Purple-Octopus-Interactive/dp/B083ZZSGLR/ref=zg_bs_toys-and-games_37/138-2212814-4458335?_encoding=UTF8&psc=1&refRID=9E5K83ZYWQ580DTD2E41',\n",
       " 'https://www.amazon.com/toys/b/?ie=UTF8&node=165793011&ref_=topnav_storetab_t',\n",
       " 'https://www.amazon.com/product-reviews/B085HGGTG9/ref=zg_bs_toys-and-games_cr_19/138-2212814-4458335?ie=UTF8&refRID=9E5K83ZYWQ580DTD2E41',\n",
       " 'https://www.amazon.com/b?ie=UTF8&node=16218619011&ref_=footer_swp',\n",
       " 'https://www.amazon.com/Animal-Suncatcher-Refill-Horizon-Group/dp/B07KD24XBS/ref=zg_bs_toys-and-games_49/138-2212814-4458335?_encoding=UTF8&psc=1&refRID=9E5K83ZYWQ580DTD2E41',\n",
       " 'https://www.amazon.com/Aqua-Campania-Ultimate-Adjustable-Inflatable/dp/B07WDM32ZC/ref=zg_bs_toys-and-games_19/138-2212814-4458335?_encoding=UTF8&psc=1&refRID=9E5K83ZYWQ580DTD2E41',\n",
       " 'https://www.amazon.com/ideas?ref_=nav_ListFlyout_idea_nav',\n",
       " 'https://www.amazon.com/Fisher-Price-Rattle-Rock-Maracas-Orange/dp/B071FLSWBS/ref=zg_bs_toys-and-games_24/138-2212814-4458335?_encoding=UTF8&psc=1&refRID=9E5K83ZYWQ580DTD2E41',\n",
       " 'https://www.amazon.com/Disney-Pixar-Story-Aliens-Figure/dp/B07HD27YZT/ref=zg_bs_toys-and-games_27/138-2212814-4458335?_encoding=UTF8&psc=1&refRID=9E5K83ZYWQ580DTD2E41',\n",
       " 'https://www.amazon.com/hz/mycd/myx?_encoding=UTF8&ref_=footer_myk',\n",
       " 'https://www.amazon.com/Best-Sellers-Toys-Games/zgbs/toys-and-games/uedata/nvp/unsticky/138-2212814-4458335/zeitgeist/ntpoffrw?tepes=1&id=9E5K83ZYWQ580DTD2E41',\n",
       " 'https://www.amazon.com/gp/css/order-history?ref_=nav_orders_first',\n",
       " 'https://www.amazon.com/showroom?ref_=nav_ListFlyout_srm_your_desk_wl',\n",
       " 'https://www.amazon.com/gp/css/order-history?ref_=nav_AccountFlyout_orders',\n",
       " 'https://www.amazon.com/Coupons/b/?_encoding=UTF8&node=2231352011&ref_=nav_cs_coupons',\n",
       " 'https://www.amazon.com/CozyBomB-Magnetic-Fishing-Bathtub-Floating/dp/B07B6NP36Q/ref=zg_bs_toys-and-games_22/138-2212814-4458335?_encoding=UTF8&psc=1&refRID=9E5K83ZYWQ580DTD2E41',\n",
       " 'https://www.amazon.com/gp/customer-preferences/select-language/ref=topnav_lang_t1?preferencesReturnUrl=%2FBest-Sellers-Toys-Games%2Fzgbs%2Ftoys-and-games%2F',\n",
       " 'https://www.amazon.com/product-reviews/B07T4FJ24L/ref=zg_bs_toys-and-games_cr_31/138-2212814-4458335?ie=UTF8&refRID=9E5K83ZYWQ580DTD2E41',\n",
       " 'https://www.amazon.com/credit/storecard/member?_encoding=UTF8&plattr=PLCCFOOT&ref_=footer_plcc',\n",
       " 'https://www.amazon.com/b/?node=16548547011&ref_=nav_cs_freeshipping',\n",
       " 'https://www.amazon.com/First-Princess-Make-Kit-Everything/dp/B07FPWYY79/ref=zg_bs_toys-and-games_15/138-2212814-4458335?_encoding=UTF8&psc=1&refRID=9E5K83ZYWQ580DTD2E41',\n",
       " 'https://www.amazon.com/gp/subscribe-and-save/manager/viewsubscriptions?ref_=nav_AccountFlyout_sns',\n",
       " 'https://www.amazon.com/gp/help/customer/accessibility',\n",
       " 'https://www.amazon.com/product-reviews/B085Q2YHL5/ref=zg_bs_toys-and-games_cr_13/138-2212814-4458335?ie=UTF8&refRID=9E5K83ZYWQ580DTD2E41',\n",
       " 'https://www.amazon.com/product-reviews/B07RTDG2ZG/ref=zg_bs_toys-and-games_cr_27/138-2212814-4458335?ie=UTF8&refRID=9E5K83ZYWQ580DTD2E41',\n",
       " 'https://www.amazon.com/gp/yourstore?ref_=nav_AccountFlyout_recs',\n",
       " 'https://www.amazon.com/gp/seller-account/mm-summary-page.html?ie=UTF8&ld=AZFooterSelfPublish&ref_=footer_publishing&topic=200260520',\n",
       " 'https://www.amazon.com/b/?node=17867753011&ref_=nav_cs_shoppertoolkit',\n",
       " 'https://www.amazon.com/product-reviews/B07XQPKZ8R/ref=zg_bs_toys-and-games_cr_9/138-2212814-4458335?ie=UTF8&refRID=9E5K83ZYWQ580DTD2E41',\n",
       " 'https://www.amazon.com/product-reviews/B081K4D3WY/ref=zg_bs_toys-and-games_cr_22/138-2212814-4458335?ie=UTF8&refRID=9E5K83ZYWQ580DTD2E41',\n",
       " 'https://www.amazon.com/toys/b/?ie=UTF8&node=165793011&ref_=sv_t_4',\n",
       " 'https://www.amazon.com/SwimWays-Spring-Float-Recliner-Lounger/dp/B017IWP22S/ref=zg_bs_toys-and-games_43/138-2212814-4458335?_encoding=UTF8&psc=1&refRID=9E5K83ZYWQ580DTD2E41',\n",
       " 'https://www.amazon.com/finds?ref_=nav_cs_foundit',\n",
       " 'https://www.amazon.com/SwimWays-Spring-Activity-Center-Canopy/dp/B000WQZD9U/ref=zg_bs_toys-and-games_34/138-2212814-4458335?_encoding=UTF8&psc=1&refRID=9E5K83ZYWQ580DTD2E41',\n",
       " 'https://www.amazon.com/s/other/ref=lp_165793011_sa_p_89/?ie=UTF8&bbn=165793011&ie=UTF8&pickerToList=lbr_brands_browse-bin&qid=1559670210&rh=n%3A165793011&ref_=sv_t_5',\n",
       " 'https://www.amazon.com/Aqua-Multi-Purpose-Inflatable-Removable-Resistant/dp/B01N7FHWPY/ref=zg_bs_toys-and-games_1/138-2212814-4458335?_encoding=UTF8&psc=1&refRID=9E5K83ZYWQ580DTD2E41',\n",
       " 'https://www.amazon.com/gp/browse.html?node=17235386011&ref_=nav_cs_whole_foods',\n",
       " 'https://www.amazon.com/product-reviews/B087S79MGV/ref=zg_bs_toys-and-games_cr_12/138-2212814-4458335?ie=UTF8&refRID=9E5K83ZYWQ580DTD2E41',\n",
       " 'https://www.amazon.com/gp/dmusic/mp3/player?ref_=nav_AccountFlyout_cldplyr',\n",
       " 'https://www.amazon.com/product-reviews/B00D8STBHY/ref=zg_bs_toys-and-games_cr_10/138-2212814-4458335?ie=UTF8&refRID=9E5K83ZYWQ580DTD2E41',\n",
       " 'https://www.amazon.com/Colored-Coloring-Doodling-Scrapbooks-Journaling/dp/B07R1WKMB3/ref=zg_bs_toys-and-games_21/138-2212814-4458335?_encoding=UTF8&psc=1&refRID=9E5K83ZYWQ580DTD2E41',\n",
       " 'https://www.amazon.com/product-reviews/B082WXCM5W/ref=zg_bs_toys-and-games_cr_3/138-2212814-4458335?ie=UTF8&refRID=9E5K83ZYWQ580DTD2E41',\n",
       " 'https://www.amazon.com/gp/clpf?ref_=nav_ListFlyout_smi_se_ya_lll_ll',\n",
       " 'https://www.amazon.com/product-reviews/B00005O6B7/ref=zg_bs_toys-and-games_cr_8/138-2212814-4458335?ie=UTF8&refRID=9E5K83ZYWQ580DTD2E41',\n",
       " 'https://www.amazon.com/product-reviews/B017IWP22S/ref=zg_bs_toys-and-games_cr_43/138-2212814-4458335?ie=UTF8&refRID=9E5K83ZYWQ580DTD2E41',\n",
       " 'https://www.amazon.com/product-reviews/B01DGIKD68/ref=zg_bs_toys-and-games_cr_46/138-2212814-4458335?ie=UTF8&refRID=9E5K83ZYWQ580DTD2E41',\n",
       " 'https://www.amazon.com/gp/subs/primeclub/account/homepage.html?ref_=nav_AccountFlyout_prime',\n",
       " 'https://www.amazon.com/product-reviews/B07JB953MG/ref=zg_bs_toys-and-games_cr_24/138-2212814-4458335?ie=UTF8&refRID=9E5K83ZYWQ580DTD2E41',\n",
       " 'https://www.amazon.com/Kidzlane-Solution-Easy-Grip-Electric-Machines/dp/B07SGYKPHK/ref=zg_bs_toys-and-games_48/138-2212814-4458335?_encoding=UTF8&psc=1&refRID=9E5K83ZYWQ580DTD2E41',\n",
       " 'https://www.amazon.com/Click-Play-Phthalate-Crush-Plastic/dp/B00PYLU3GG/ref=zg_bs_toys-and-games_45/138-2212814-4458335?_encoding=UTF8&psc=1&refRID=9E5K83ZYWQ580DTD2E41',\n",
       " 'https://www.amazon.com/product-reviews/B084QJFSLB/ref=zg_bs_toys-and-games_cr_30/138-2212814-4458335?ie=UTF8&refRID=9E5K83ZYWQ580DTD2E41',\n",
       " 'https://www.amazon.com/hz/mycd/myx?ref_=nav_AccountFlyout_myk',\n",
       " 'https://www.amazon.com/product-reviews/B07FPWYY79/ref=zg_bs_toys-and-games_cr_15/138-2212814-4458335?ie=UTF8&refRID=9E5K83ZYWQ580DTD2E41',\n",
       " 'https://www.amazon.com/product-reviews/B089BQC3TS/ref=zg_bs_toys-and-games_cr_1/138-2212814-4458335?ie=UTF8&refRID=9E5K83ZYWQ580DTD2E41',\n",
       " 'https://www.amazon.com/Intex-King-Inflatable-Lounge-Colors/dp/B00005O6B7/ref=zg_bs_toys-and-games_8/138-2212814-4458335?_encoding=UTF8&psc=1&refRID=9E5K83ZYWQ580DTD2E41',\n",
       " 'https://www.amazon.com/business?_encoding=UTF8&ref_=footer_retail_b2b',\n",
       " 'https://www.amazon.com/gp/browse.html?node=11261610011&ref_=nav_AccountFlyout_b2b_reg',\n",
       " 'https://www.amazon.com/Bunch-Balloons-Pack-Amazon-Exclusive/dp/B07GW2QQWN/ref=zg_bs_toys-and-games_2/138-2212814-4458335?_encoding=UTF8&psc=1&refRID=9E5K83ZYWQ580DTD2E41',\n",
       " 'https://www.amazon.com/product-reviews/B004S8F7QM/ref=zg_bs_toys-and-games_cr_18/138-2212814-4458335?ie=UTF8&refRID=9E5K83ZYWQ580DTD2E41',\n",
       " 'https://www.amazon.com/LEGO-Classic-Green-Baseplate-Supplement/dp/B00NHQF65S/ref=zg_bs_toys-and-games_41/138-2212814-4458335?_encoding=UTF8&psc=1&refRID=9E5K83ZYWQ580DTD2E41',\n",
       " 'https://www.amazon.com/product-reviews/B07TLFW24K/ref=zg_bs_toys-and-games_cr_50/138-2212814-4458335?ie=UTF8&refRID=9E5K83ZYWQ580DTD2E41',\n",
       " 'https://www.amazon.com/b/?_encoding=UTF8&ld=AZUSSOA-seemore&node=18190131011&ref_=footer_seemore',\n",
       " 'https://www.amazon.com/amazon-devices/b?ie=UTF8&node=2102313011&ref_=footer_devices',\n",
       " 'https://www.amazon.com/Crayola-Twistables-Classrooms-Preschools-Self-Sharpening/dp/B00062J99K/ref=zg_bs_toys-and-games_42/138-2212814-4458335?_encoding=UTF8&psc=1&refRID=9E5K83ZYWQ580DTD2E41',\n",
       " 'https://www.amazon.com/b/?node=12766669011&ld=AZUSSOA-yaflyout&ref_=nav_cs_sell',\n",
       " 'https://www.amazon.com/product-reviews/B00NHQF65S/ref=zg_bs_toys-and-games_cr_41/138-2212814-4458335?ie=UTF8&refRID=9E5K83ZYWQ580DTD2E41',\n",
       " 'https://www.amazon.com/gp/BIT?bitCampaignCode=a0032&ref_=nav_ListFlyout_bit_v2_a0032',\n",
       " 'https://www.amazon.com/product-reviews/B07WDNCLKC/ref=zg_bs_toys-and-games_cr_44/138-2212814-4458335?ie=UTF8&refRID=9E5K83ZYWQ580DTD2E41',\n",
       " 'https://www.amazon.com/Intex-Crystal-Blue-Inflatable-Pool/dp/B000SN61UC/ref=zg_bs_toys-and-games_50/138-2212814-4458335?_encoding=UTF8&psc=1&refRID=9E5K83ZYWQ580DTD2E41',\n",
       " 'https://www.amazon.com/dp/B07984JN3L?_encoding=UTF8&ie=UTF-8&plattr=ACOMFO',\n",
       " 'https://www.amazon.com/product-reviews/B07R1WKMB3/ref=zg_bs_toys-and-games_cr_21/138-2212814-4458335?ie=UTF8&refRID=9E5K83ZYWQ580DTD2E41',\n",
       " 'https://www.amazon.com/product-reviews/B0855BPBYD/ref=zg_bs_toys-and-games_cr_7/138-2212814-4458335?ie=UTF8&refRID=9E5K83ZYWQ580DTD2E41',\n",
       " 'https://www.amazon.com/WOWMAZING-Giant-Bubble-Wands-Kit/dp/B01CK78BLA/ref=zg_bs_toys-and-games_40/138-2212814-4458335?_encoding=UTF8&psc=1&refRID=9E5K83ZYWQ580DTD2E41',\n",
       " 'https://www.amazon.com/gp/mas/your-account/myapps?ref_=nav_AccountFlyout_aad',\n",
       " 'https://www.amazon.com/gp/help/customer/display.html?ie=UTF8&nodeId=468520&ref_=footer_shiprates',\n",
       " 'https://www.amazon.com/Flybar-Jumper-Toddlers-Durable-Supports/dp/B00WTDXSDM/ref=zg_bs_toys-and-games_13/138-2212814-4458335?_encoding=UTF8&psc=1&refRID=9E5K83ZYWQ580DTD2E41',\n",
       " 'https://www.amazon.com/alm/storefront?_encoding=UTF8&almBrandId=QW1hem9uIEZyZXNo&ref_=footer_aff_fresh',\n",
       " 'https://www.amazon.com/product-reviews/B000WQZD9U/ref=zg_bs_toys-and-games_cr_34/138-2212814-4458335?ie=UTF8&refRID=9E5K83ZYWQ580DTD2E41',\n",
       " 'https://www.amazon.com/gp/yourstore/pym/ref=pd_pyml_rhf/138-2212814-4458335',\n",
       " 'https://www.amazon.com/gcx/Gifts-for-Everyone/gfhz/?ref_=nav_cs_giftfinder',\n",
       " 'https://www.amazon.com/First-Years-Stack-Up-Cups/dp/B00005C5H4/ref=zg_bs_toys-and-games_5/138-2212814-4458335?_encoding=UTF8&psc=1&refRID=9E5K83ZYWQ580DTD2E41',\n",
       " 'https://www.amazon.com/Mattel-Games-Official-Amazon-Exclusive/dp/B07P6MZPK3/ref=zg_bs_toys-and-games_26/138-2212814-4458335?_encoding=UTF8&psc=1&refRID=9E5K83ZYWQ580DTD2E41',\n",
       " 'https://www.amazon.com/product-reviews/B08575MSSN/ref=zg_bs_toys-and-games_cr_35/138-2212814-4458335?ie=UTF8&refRID=9E5K83ZYWQ580DTD2E41',\n",
       " 'https://www.amazon.com/Tara-Toys-Barbie-Necklace-Activity/dp/B07WWZBF5G/ref=zg_bs_toys-and-games_7/138-2212814-4458335?_encoding=UTF8&psc=1&refRID=9E5K83ZYWQ580DTD2E41',\n",
       " 'https://www.amazon.com/toys/b/?ie=UTF8&node=165793011&ref_=sv_t_2',\n",
       " 'https://www.amazon.com/Insect-Lore-Butterfly-Garden-Caterpillars/dp/B087YKKT98/ref=zg_bs_toys-and-games_44/138-2212814-4458335?_encoding=UTF8&psc=1&refRID=9E5K83ZYWQ580DTD2E41',\n",
       " 'https://www.amazon.com/gp/prime/ref=nav_prime_ajax_err/138-2212814-4458335',\n",
       " 'https://www.amazon.com/8002-Juego-Sequence/dp/B00000IVAK/ref=zg_bs_toys-and-games_36/138-2212814-4458335?_encoding=UTF8&psc=1&refRID=9E5K83ZYWQ580DTD2E41',\n",
       " 'https://www.amazon.com/product-reviews/B089QR5DPB/ref=zg_bs_toys-and-games_cr_11/138-2212814-4458335?ie=UTF8&refRID=9E5K83ZYWQ580DTD2E41',\n",
       " 'https://www.amazon.com/Creativity-Kids-Glow-Dark-Painting/dp/B07SXLYQ6S/ref=zg_bs_toys-and-games_17/138-2212814-4458335?_encoding=UTF8&psc=1&refRID=9E5K83ZYWQ580DTD2E41',\n",
       " 'https://www.amazon.com/gp/browse.html?node=16115931011&ref_=nav_cs_registry',\n",
       " 'https://www.amazon.com/Hasbro-A5640-Connect-4-Game/dp/B00D8STBHY/ref=zg_bs_toys-and-games_10/138-2212814-4458335?_encoding=UTF8&psc=1&refRID=9E5K83ZYWQ580DTD2E41',\n",
       " 'https://www.amazon.com/Hasbro-Gaming-C1009-Monopoly-Classic/dp/B01MU9K3XU/ref=zg_bs_toys-and-games_20/138-2212814-4458335?_encoding=UTF8&psc=1&refRID=9E5K83ZYWQ580DTD2E41',\n",
       " 'https://www.amazon.com/gp/css/order-history?ie=UTF8&ref_=footer_yo',\n",
       " 'https://www.amazon.com/Reload-Your-Gift-Card-Balance/b?ie=UTF8&node=10232440011&ref_=footer_reload_us',\n",
       " 'https://www.amazon.com/stores/node/2528919011/?field-lbr_brands_browse-bin=AmazonBasics&ref_=nav_cs_amazonbasics',\n",
       " 'https://www.amazon.com/product-reviews/B07N2GMQR4/ref=zg_bs_toys-and-games_cr_32/138-2212814-4458335?ie=UTF8&refRID=9E5K83ZYWQ580DTD2E41',\n",
       " 'https://www.amazon.com/dp/B07CBJQS16?_encoding=UTF8&ie=UTF-8&place=camp&plattr=CCLFOOT&pr=ibprox&ref_=footer_ccl',\n",
       " 'https://www.amazon.com/VTech-Sit-to-Stand-Learning-Walker-Blue/dp/B07CRSXMW8/ref=zg_bs_toys-and-games_9/138-2212814-4458335?_encoding=UTF8&psc=1&refRID=9E5K83ZYWQ580DTD2E41',\n",
       " 'https://www.amazon.com/wedding/home?ref_=nav_ListFlyout_wr',\n",
       " 'https://www.amazon.com/gp/BIT/ref=footer_bit_v2_us_A0029?bitCampaignCode=A0029',\n",
       " 'https://www.amazon.com/gp/your-garage/?ref_=nav_AccountFlyout_au_pf_as_GNO',\n",
       " 'https://www.amazon.com/gp/customer-preferences/select-language/ref=footer_lang_t1?ie=UTF8&preferencesReturnUrl=%2F',\n",
       " 'https://www.amazon.com/gift-cards/b/?ie=UTF8&node=2238192011&ref_=nav_cs_gc',\n",
       " 'https://www.amazon.com/gp/video/library?ref_=nav_AccountFlyout_yvl']"
      ]
     },
     "execution_count": 10,
     "metadata": {},
     "output_type": "execute_result"
    }
   ],
   "source": [
    "page_links"
   ]
  },
  {
   "cell_type": "code",
   "execution_count": 11,
   "metadata": {},
   "outputs": [],
   "source": [
    "\n",
    "def scrape_product_page(url, title_lookup = \"#productTitle\", price_lookup = \"#priceblock_ourprice\"):\n",
    "    driver.get(url)\n",
    "    time.sleep(0.5)\n",
    "    body_el = driver.find_element_by_css_selector(\"body\")\n",
    "    html_str = body_el.get_attribute(\"innerHTML\")\n",
    "    html_obj = HTML(html=html_str)\n",
    "    product_title = html_obj.find(title_lookup, first=True).text\n",
    "    product_price = html_obj.find(price_lookup, first=True).text\n",
    "    return product_title, product_price  "
   ]
  },
  {
   "cell_type": "code",
   "execution_count": 12,
   "metadata": {},
   "outputs": [
    {
     "data": {
      "text/plain": [
       "'https://www.amazon.com/SwimWays-Toypedo-Bandits-Pool-Diving/dp/B0038ZVPFI/ref=zg_bs_toys-and-games_29/138-2212814-4458335?_encoding=UTF8&psc=1&refRID=9E5K83ZYWQ580DTD2E41'"
      ]
     },
     "execution_count": 12,
     "metadata": {},
     "output_type": "execute_result"
    }
   ],
   "source": [
    "first_product_link = page_links[0]\n",
    "first_product_link"
   ]
  },
  {
   "cell_type": "code",
   "execution_count": 13,
   "metadata": {},
   "outputs": [],
   "source": [
    "\n",
    "my_regex_pattern = r\"https://www.amazon.com/(?P<slug>[\\w-]+)/dp/(?P<product_id>[\\w-]+)/\"\n",
    "my_url = 'https://www.amazon.com/Crayola-Washable-Watercolors-8-ea/dp/B000HHKAE2/'"
   ]
  },
  {
   "cell_type": "code",
   "execution_count": 14,
   "metadata": {},
   "outputs": [],
   "source": [
    "regex = re.compile(my_regex_pattern)"
   ]
  },
  {
   "cell_type": "code",
   "execution_count": 15,
   "metadata": {},
   "outputs": [
    {
     "name": "stdout",
     "output_type": "stream",
     "text": [
      "<re.Match object; span=(0, 71), match='https://www.amazon.com/Crayola-Washable-Watercolo>\n"
     ]
    }
   ],
   "source": [
    "my_match = regex.match(my_url)\n",
    "print(my_match)"
   ]
  },
  {
   "cell_type": "code",
   "execution_count": 16,
   "metadata": {},
   "outputs": [],
   "source": [
    "regex_options = [\n",
    "    r\"https://www.amazon.com/gp/product/(?P<product_id>[\\w-]+)/\",\n",
    "    r\"https://www.amazon.com/dp/(?P<product_id>[\\w-]+)/\",\n",
    "    r\"https://www.amazon.com/(?P<slug>[\\w-]+)/dp/(?P<product_id>[\\w-]+)/\",\n",
    "]\n",
    "\n",
    "def extract_product_id_from_url(url):\n",
    "    product_id = None\n",
    "    for regex_str in regex_options:\n",
    "        regex = re.compile(regex_str)\n",
    "        match = regex.match(url)\n",
    "        if match != None:\n",
    "            try:\n",
    "                product_id = match['product_id']\n",
    "            except:\n",
    "                pass\n",
    "    return product_id\n",
    "    \n",
    "    "
   ]
  },
  {
   "cell_type": "code",
   "execution_count": 19,
   "metadata": {},
   "outputs": [],
   "source": [
    "\n",
    "def clean_page_links(page_links):\n",
    "    final_page_links = []\n",
    "    for url in page_links:\n",
    "        product_id = extract_product_id_from_url(url)\n",
    "        if product_id != None:\n",
    "           final_page_links.append({'url':url,'product_id':product_id})\n",
    "    return final_page_links\n",
    "\n",
    "cleaned_links = clean_page_links(page_links)"
   ]
  },
  {
   "cell_type": "code",
   "execution_count": 20,
   "metadata": {},
   "outputs": [
    {
     "data": {
      "text/plain": [
       "[{'url': 'https://www.amazon.com/SwimWays-Toypedo-Bandits-Pool-Diving/dp/B0038ZVPFI/ref=zg_bs_toys-and-games_29/138-2212814-4458335?_encoding=UTF8&psc=1&refRID=9E5K83ZYWQ580DTD2E41',\n",
       "  'product_id': 'B0038ZVPFI'},\n",
       " {'url': 'https://www.amazon.com/Exploding-Kittens-LLC-EKG-ORG1-1-Card/dp/B010TQY7A8/ref=zg_bs_toys-and-games_35/138-2212814-4458335?_encoding=UTF8&psc=1&refRID=9E5K83ZYWQ580DTD2E41',\n",
       "  'product_id': 'B010TQY7A8'},\n",
       " {'url': 'https://www.amazon.com/Pacon-PAC6555-Lightweight-Construction-Assorted/dp/B0013CDJTS/ref=zg_bs_toys-and-games_33/138-2212814-4458335?_encoding=UTF8&psc=1&refRID=9E5K83ZYWQ580DTD2E41',\n",
       "  'product_id': 'B0013CDJTS'},\n",
       " {'url': 'https://www.amazon.com/First-Years-Disney-Mickey-Squirt/dp/B06Y1G2MH9/ref=zg_bs_toys-and-games_38/138-2212814-4458335?_encoding=UTF8&psc=1&refRID=9E5K83ZYWQ580DTD2E41',\n",
       "  'product_id': 'B06Y1G2MH9'},\n",
       " {'url': 'https://www.amazon.com/SplashEZ-Splash-Sprinkler-Toddler-Learning/dp/B0836WRWFY/ref=zg_bs_toys-and-games_6/138-2212814-4458335?_encoding=UTF8&psc=1&refRID=9E5K83ZYWQ580DTD2E41',\n",
       "  'product_id': 'B0836WRWFY'},\n",
       " {'url': 'https://www.amazon.com/Play-Doh-Pack-Case-Blue/dp/B07BC152DC/ref=zg_bs_toys-and-games_16/138-2212814-4458335?_encoding=UTF8&psc=1&refRID=9E5K83ZYWQ580DTD2E41',\n",
       "  'product_id': 'B07BC152DC'},\n",
       " {'url': 'https://www.amazon.com/Homech-Inflatable-Swimming-Full-Sized-Toddlers/dp/B083PRCZDM/ref=zg_bs_toys-and-games_23/138-2212814-4458335?_encoding=UTF8&psc=1&refRID=9E5K83ZYWQ580DTD2E41',\n",
       "  'product_id': 'B083PRCZDM'},\n",
       " {'url': 'https://www.amazon.com/Crayola-Wonder-Drawing-Cantidad-paquete/dp/B07PMLL5L7/ref=zg_bs_toys-and-games_12/138-2212814-4458335?_encoding=UTF8&psc=1&refRID=9E5K83ZYWQ580DTD2E41',\n",
       "  'product_id': 'B07PMLL5L7'},\n",
       " {'url': 'https://www.amazon.com/Intex-River-Lounge-Inflatable-Diameter/dp/B000PEOMC8/ref=zg_bs_toys-and-games_4/138-2212814-4458335?_encoding=UTF8&psc=1&refRID=9E5K83ZYWQ580DTD2E41',\n",
       "  'product_id': 'B000PEOMC8'},\n",
       " {'url': 'https://www.amazon.com/Play-Doh-Modeling-Compound-Non-Toxic-Exclusive/dp/B00JM5GW10/ref=zg_bs_toys-and-games_39/138-2212814-4458335?_encoding=UTF8&psc=1&refRID=9E5K83ZYWQ580DTD2E41',\n",
       "  'product_id': 'B00JM5GW10'},\n",
       " {'url': 'https://www.amazon.com/Inflatable-Splash-Sprinkler-Toddlers-Outdoor/dp/B082WXCM5W/ref=zg_bs_toys-and-games_3/138-2212814-4458335?_encoding=UTF8&psc=1&refRID=9E5K83ZYWQ580DTD2E41',\n",
       "  'product_id': 'B082WXCM5W'},\n",
       " {'url': 'https://www.amazon.com/Protector-Proofing-Protectors-Furniture-CalMyotis/dp/B0771L5HN5/ref=zg_bs_toys-and-games_30/138-2212814-4458335?_encoding=UTF8&psc=1&refRID=9E5K83ZYWQ580DTD2E41',\n",
       "  'product_id': 'B0771L5HN5'},\n",
       " {'url': 'https://www.amazon.com/Little-Tikes-EasyScore-Basketball-Exclusive/dp/B01C5A2WJO/ref=zg_bs_toys-and-games_28/138-2212814-4458335?_encoding=UTF8&psc=1&refRID=9E5K83ZYWQ580DTD2E41',\n",
       "  'product_id': 'B01C5A2WJO'},\n",
       " {'url': 'https://www.amazon.com/Baby-Einstein-Creative-Composer-Musical/dp/B083XNLSN3/ref=zg_bs_toys-and-games_47/138-2212814-4458335?_encoding=UTF8&psc=1&refRID=9E5K83ZYWQ580DTD2E41',\n",
       "  'product_id': 'B083XNLSN3'},\n",
       " {'url': 'https://www.amazon.com/Free-Swimming-Baby-Inflatable-Accessories/dp/B072N2J366/ref=zg_bs_toys-and-games_14/138-2212814-4458335?_encoding=UTF8&psc=1&refRID=9E5K83ZYWQ580DTD2E41',\n",
       "  'product_id': 'B072N2J366'},\n",
       " {'url': 'https://www.amazon.com/Nerf-Doomlands-Judge-Amazon-Exclusive/dp/B06Y6FV3V4/ref=zg_bs_toys-and-games_25/138-2212814-4458335?_encoding=UTF8&psc=1&refRID=9E5K83ZYWQ580DTD2E41',\n",
       "  'product_id': 'B06Y6FV3V4'},\n",
       " {'url': 'https://www.amazon.com/Cards-Against-Humanity-LLC-CAHUS/dp/B004S8F7QM/ref=zg_bs_toys-and-games_18/138-2212814-4458335?_encoding=UTF8&psc=1&refRID=9E5K83ZYWQ580DTD2E41',\n",
       "  'product_id': 'B004S8F7QM'},\n",
       " {'url': 'https://www.amazon.com/SunWorks-Construction-Assorted-Colors-Sheets/dp/B0013CA0LI/ref=zg_bs_toys-and-games_11/138-2212814-4458335?_encoding=UTF8&psc=1&refRID=9E5K83ZYWQ580DTD2E41',\n",
       "  'product_id': 'B0013CA0LI'},\n",
       " {'url': 'https://www.amazon.com/Little-Tikes-Snug-Secure-Swing/dp/B01DGIKD68/ref=zg_bs_toys-and-games_46/138-2212814-4458335?_encoding=UTF8&psc=1&refRID=9E5K83ZYWQ580DTD2E41',\n",
       "  'product_id': 'B01DGIKD68'},\n",
       " {'url': 'https://www.amazon.com/Waterproof-Stickers-Luggage-Scrapbook-Postcard/dp/B07QR3NWGK/ref=zg_bs_toys-and-games_32/138-2212814-4458335?_encoding=UTF8&psc=1&refRID=9E5K83ZYWQ580DTD2E41',\n",
       "  'product_id': 'B07QR3NWGK'},\n",
       " {'url': 'https://www.amazon.com/Nuby-Floating-Purple-Octopus-Interactive/dp/B083ZZSGLR/ref=zg_bs_toys-and-games_37/138-2212814-4458335?_encoding=UTF8&psc=1&refRID=9E5K83ZYWQ580DTD2E41',\n",
       "  'product_id': 'B083ZZSGLR'},\n",
       " {'url': 'https://www.amazon.com/Animal-Suncatcher-Refill-Horizon-Group/dp/B07KD24XBS/ref=zg_bs_toys-and-games_49/138-2212814-4458335?_encoding=UTF8&psc=1&refRID=9E5K83ZYWQ580DTD2E41',\n",
       "  'product_id': 'B07KD24XBS'},\n",
       " {'url': 'https://www.amazon.com/Aqua-Campania-Ultimate-Adjustable-Inflatable/dp/B07WDM32ZC/ref=zg_bs_toys-and-games_19/138-2212814-4458335?_encoding=UTF8&psc=1&refRID=9E5K83ZYWQ580DTD2E41',\n",
       "  'product_id': 'B07WDM32ZC'},\n",
       " {'url': 'https://www.amazon.com/Fisher-Price-Rattle-Rock-Maracas-Orange/dp/B071FLSWBS/ref=zg_bs_toys-and-games_24/138-2212814-4458335?_encoding=UTF8&psc=1&refRID=9E5K83ZYWQ580DTD2E41',\n",
       "  'product_id': 'B071FLSWBS'},\n",
       " {'url': 'https://www.amazon.com/Disney-Pixar-Story-Aliens-Figure/dp/B07HD27YZT/ref=zg_bs_toys-and-games_27/138-2212814-4458335?_encoding=UTF8&psc=1&refRID=9E5K83ZYWQ580DTD2E41',\n",
       "  'product_id': 'B07HD27YZT'},\n",
       " {'url': 'https://www.amazon.com/CozyBomB-Magnetic-Fishing-Bathtub-Floating/dp/B07B6NP36Q/ref=zg_bs_toys-and-games_22/138-2212814-4458335?_encoding=UTF8&psc=1&refRID=9E5K83ZYWQ580DTD2E41',\n",
       "  'product_id': 'B07B6NP36Q'},\n",
       " {'url': 'https://www.amazon.com/First-Princess-Make-Kit-Everything/dp/B07FPWYY79/ref=zg_bs_toys-and-games_15/138-2212814-4458335?_encoding=UTF8&psc=1&refRID=9E5K83ZYWQ580DTD2E41',\n",
       "  'product_id': 'B07FPWYY79'},\n",
       " {'url': 'https://www.amazon.com/SwimWays-Spring-Float-Recliner-Lounger/dp/B017IWP22S/ref=zg_bs_toys-and-games_43/138-2212814-4458335?_encoding=UTF8&psc=1&refRID=9E5K83ZYWQ580DTD2E41',\n",
       "  'product_id': 'B017IWP22S'},\n",
       " {'url': 'https://www.amazon.com/SwimWays-Spring-Activity-Center-Canopy/dp/B000WQZD9U/ref=zg_bs_toys-and-games_34/138-2212814-4458335?_encoding=UTF8&psc=1&refRID=9E5K83ZYWQ580DTD2E41',\n",
       "  'product_id': 'B000WQZD9U'},\n",
       " {'url': 'https://www.amazon.com/Aqua-Multi-Purpose-Inflatable-Removable-Resistant/dp/B01N7FHWPY/ref=zg_bs_toys-and-games_1/138-2212814-4458335?_encoding=UTF8&psc=1&refRID=9E5K83ZYWQ580DTD2E41',\n",
       "  'product_id': 'B01N7FHWPY'},\n",
       " {'url': 'https://www.amazon.com/Colored-Coloring-Doodling-Scrapbooks-Journaling/dp/B07R1WKMB3/ref=zg_bs_toys-and-games_21/138-2212814-4458335?_encoding=UTF8&psc=1&refRID=9E5K83ZYWQ580DTD2E41',\n",
       "  'product_id': 'B07R1WKMB3'},\n",
       " {'url': 'https://www.amazon.com/Kidzlane-Solution-Easy-Grip-Electric-Machines/dp/B07SGYKPHK/ref=zg_bs_toys-and-games_48/138-2212814-4458335?_encoding=UTF8&psc=1&refRID=9E5K83ZYWQ580DTD2E41',\n",
       "  'product_id': 'B07SGYKPHK'},\n",
       " {'url': 'https://www.amazon.com/Click-Play-Phthalate-Crush-Plastic/dp/B00PYLU3GG/ref=zg_bs_toys-and-games_45/138-2212814-4458335?_encoding=UTF8&psc=1&refRID=9E5K83ZYWQ580DTD2E41',\n",
       "  'product_id': 'B00PYLU3GG'},\n",
       " {'url': 'https://www.amazon.com/Intex-King-Inflatable-Lounge-Colors/dp/B00005O6B7/ref=zg_bs_toys-and-games_8/138-2212814-4458335?_encoding=UTF8&psc=1&refRID=9E5K83ZYWQ580DTD2E41',\n",
       "  'product_id': 'B00005O6B7'},\n",
       " {'url': 'https://www.amazon.com/Bunch-Balloons-Pack-Amazon-Exclusive/dp/B07GW2QQWN/ref=zg_bs_toys-and-games_2/138-2212814-4458335?_encoding=UTF8&psc=1&refRID=9E5K83ZYWQ580DTD2E41',\n",
       "  'product_id': 'B07GW2QQWN'},\n",
       " {'url': 'https://www.amazon.com/LEGO-Classic-Green-Baseplate-Supplement/dp/B00NHQF65S/ref=zg_bs_toys-and-games_41/138-2212814-4458335?_encoding=UTF8&psc=1&refRID=9E5K83ZYWQ580DTD2E41',\n",
       "  'product_id': 'B00NHQF65S'},\n",
       " {'url': 'https://www.amazon.com/Crayola-Twistables-Classrooms-Preschools-Self-Sharpening/dp/B00062J99K/ref=zg_bs_toys-and-games_42/138-2212814-4458335?_encoding=UTF8&psc=1&refRID=9E5K83ZYWQ580DTD2E41',\n",
       "  'product_id': 'B00062J99K'},\n",
       " {'url': 'https://www.amazon.com/Intex-Crystal-Blue-Inflatable-Pool/dp/B000SN61UC/ref=zg_bs_toys-and-games_50/138-2212814-4458335?_encoding=UTF8&psc=1&refRID=9E5K83ZYWQ580DTD2E41',\n",
       "  'product_id': 'B000SN61UC'},\n",
       " {'url': 'https://www.amazon.com/WOWMAZING-Giant-Bubble-Wands-Kit/dp/B01CK78BLA/ref=zg_bs_toys-and-games_40/138-2212814-4458335?_encoding=UTF8&psc=1&refRID=9E5K83ZYWQ580DTD2E41',\n",
       "  'product_id': 'B01CK78BLA'},\n",
       " {'url': 'https://www.amazon.com/Flybar-Jumper-Toddlers-Durable-Supports/dp/B00WTDXSDM/ref=zg_bs_toys-and-games_13/138-2212814-4458335?_encoding=UTF8&psc=1&refRID=9E5K83ZYWQ580DTD2E41',\n",
       "  'product_id': 'B00WTDXSDM'},\n",
       " {'url': 'https://www.amazon.com/First-Years-Stack-Up-Cups/dp/B00005C5H4/ref=zg_bs_toys-and-games_5/138-2212814-4458335?_encoding=UTF8&psc=1&refRID=9E5K83ZYWQ580DTD2E41',\n",
       "  'product_id': 'B00005C5H4'},\n",
       " {'url': 'https://www.amazon.com/Mattel-Games-Official-Amazon-Exclusive/dp/B07P6MZPK3/ref=zg_bs_toys-and-games_26/138-2212814-4458335?_encoding=UTF8&psc=1&refRID=9E5K83ZYWQ580DTD2E41',\n",
       "  'product_id': 'B07P6MZPK3'},\n",
       " {'url': 'https://www.amazon.com/Tara-Toys-Barbie-Necklace-Activity/dp/B07WWZBF5G/ref=zg_bs_toys-and-games_7/138-2212814-4458335?_encoding=UTF8&psc=1&refRID=9E5K83ZYWQ580DTD2E41',\n",
       "  'product_id': 'B07WWZBF5G'},\n",
       " {'url': 'https://www.amazon.com/Insect-Lore-Butterfly-Garden-Caterpillars/dp/B087YKKT98/ref=zg_bs_toys-and-games_44/138-2212814-4458335?_encoding=UTF8&psc=1&refRID=9E5K83ZYWQ580DTD2E41',\n",
       "  'product_id': 'B087YKKT98'},\n",
       " {'url': 'https://www.amazon.com/8002-Juego-Sequence/dp/B00000IVAK/ref=zg_bs_toys-and-games_36/138-2212814-4458335?_encoding=UTF8&psc=1&refRID=9E5K83ZYWQ580DTD2E41',\n",
       "  'product_id': 'B00000IVAK'},\n",
       " {'url': 'https://www.amazon.com/Creativity-Kids-Glow-Dark-Painting/dp/B07SXLYQ6S/ref=zg_bs_toys-and-games_17/138-2212814-4458335?_encoding=UTF8&psc=1&refRID=9E5K83ZYWQ580DTD2E41',\n",
       "  'product_id': 'B07SXLYQ6S'},\n",
       " {'url': 'https://www.amazon.com/Hasbro-A5640-Connect-4-Game/dp/B00D8STBHY/ref=zg_bs_toys-and-games_10/138-2212814-4458335?_encoding=UTF8&psc=1&refRID=9E5K83ZYWQ580DTD2E41',\n",
       "  'product_id': 'B00D8STBHY'},\n",
       " {'url': 'https://www.amazon.com/Hasbro-Gaming-C1009-Monopoly-Classic/dp/B01MU9K3XU/ref=zg_bs_toys-and-games_20/138-2212814-4458335?_encoding=UTF8&psc=1&refRID=9E5K83ZYWQ580DTD2E41',\n",
       "  'product_id': 'B01MU9K3XU'},\n",
       " {'url': 'https://www.amazon.com/VTech-Sit-to-Stand-Learning-Walker-Blue/dp/B07CRSXMW8/ref=zg_bs_toys-and-games_9/138-2212814-4458335?_encoding=UTF8&psc=1&refRID=9E5K83ZYWQ580DTD2E41',\n",
       "  'product_id': 'B07CRSXMW8'}]"
      ]
     },
     "execution_count": 20,
     "metadata": {},
     "output_type": "execute_result"
    }
   ],
   "source": [
    "cleaned_links"
   ]
  },
  {
   "cell_type": "code",
   "execution_count": 23,
   "metadata": {},
   "outputs": [],
   "source": [
    "def perform_scrape(cleaned_items=[]):\n",
    "    data_extractred = []\n",
    "    for obj in cleaned_items:\n",
    "        link = obj['url']\n",
    "        product_id = obj['product_id']\n",
    "        title, price = (None, None)\n",
    "        try:\n",
    "            title, price = scrape_product_page(link)\n",
    "        except:\n",
    "            pass\n",
    "        if title != None and price != None:\n",
    "            print(link, title, price)\n",
    "        product_data = {\n",
    "        'url':link,\n",
    "        'product_id':product_id,\n",
    "        'title':title,\n",
    "        'price':price\n",
    "    }\n",
    "    data_extracted.append(product_data)"
   ]
  },
  {
   "cell_type": "code",
   "execution_count": 24,
   "metadata": {},
   "outputs": [
    {
     "name": "stdout",
     "output_type": "stream",
     "text": [
      "https://www.amazon.com/SwimWays-Toypedo-Bandits-Pool-Diving/dp/B0038ZVPFI/ref=zg_bs_toys-and-games_29/138-2212814-4458335?_encoding=UTF8&psc=1&refRID=9E5K83ZYWQ580DTD2E41 SwimWays Toypedo Bandits Pool Diving Toys - Sinking Torpedo Swim Toys - Pack of 4, Colors Vary, (12298) $5.00\n"
     ]
    },
    {
     "ename": "NameError",
     "evalue": "name 'data_extracted' is not defined",
     "output_type": "error",
     "traceback": [
      "\u001b[1;31m---------------------------------------------------------------------------\u001b[0m",
      "\u001b[1;31mNameError\u001b[0m                                 Traceback (most recent call last)",
      "\u001b[1;32m<ipython-input-24-78b11330d085>\u001b[0m in \u001b[0;36m<module>\u001b[1;34m\u001b[0m\n\u001b[1;32m----> 1\u001b[1;33m \u001b[0mperform_scrape\u001b[0m\u001b[1;33m(\u001b[0m\u001b[0mcleaned_links\u001b[0m\u001b[1;33m)\u001b[0m\u001b[1;33m\u001b[0m\u001b[1;33m\u001b[0m\u001b[0m\n\u001b[0m",
      "\u001b[1;32m<ipython-input-23-0aadcf912468>\u001b[0m in \u001b[0;36mperform_scrape\u001b[1;34m(cleaned_items)\u001b[0m\n\u001b[0;32m     17\u001b[0m         \u001b[1;34m'price'\u001b[0m\u001b[1;33m:\u001b[0m\u001b[0mprice\u001b[0m\u001b[1;33m\u001b[0m\u001b[1;33m\u001b[0m\u001b[0m\n\u001b[0;32m     18\u001b[0m     }\n\u001b[1;32m---> 19\u001b[1;33m         \u001b[0mdata_extracted\u001b[0m\u001b[1;33m.\u001b[0m\u001b[0mappend\u001b[0m\u001b[1;33m(\u001b[0m\u001b[0mproduct_data\u001b[0m\u001b[1;33m)\u001b[0m\u001b[1;33m\u001b[0m\u001b[1;33m\u001b[0m\u001b[0m\n\u001b[0m",
      "\u001b[1;31mNameError\u001b[0m: name 'data_extracted' is not defined"
     ]
    }
   ],
   "source": [
    "perform_scrape(cleaned_links)"
   ]
  },
  {
   "cell_type": "code",
   "execution_count": null,
   "metadata": {},
   "outputs": [],
   "source": []
  }
 ],
 "metadata": {
  "kernelspec": {
   "display_name": "Python 3",
   "language": "python",
   "name": "python3"
  },
  "language_info": {
   "codemirror_mode": {
    "name": "ipython",
    "version": 3
   },
   "file_extension": ".py",
   "mimetype": "text/x-python",
   "name": "python",
   "nbconvert_exporter": "python",
   "pygments_lexer": "ipython3",
   "version": "3.7.6"
  }
 },
 "nbformat": 4,
 "nbformat_minor": 4
}
